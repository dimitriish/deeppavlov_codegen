{
 "cells": [
  {
   "cell_type": "code",
   "execution_count": 1,
   "id": "665dd197-6beb-4067-8a58-d706161c3375",
   "metadata": {},
   "outputs": [
    {
     "data": {
      "text/plain": [
       "12000"
      ]
     },
     "execution_count": 1,
     "metadata": {},
     "output_type": "execute_result"
    }
   ],
   "source": [
    "import json\n",
    "with open('../repobench/data/easy_fixed.jsonl', 'r') as json_file:\n",
    "    raw_data = list(json_file)\n",
    "len(raw_data)"
   ]
  },
  {
   "cell_type": "code",
   "execution_count": 2,
   "id": "3eb94a17-5a82-48ee-9b34-0cf4992a4785",
   "metadata": {},
   "outputs": [],
   "source": [
    "data = [json.loads(row) for row in raw_data]"
   ]
  },
  {
   "cell_type": "code",
   "execution_count": 4,
   "id": "9c648203-89d0-4652-a711-ba65472b0597",
   "metadata": {},
   "outputs": [
    {
     "data": {
      "text/plain": [
       "dict_keys(['repo_name', 'file_path', 'context', 'import_statement', 'code', 'next_line', 'gold_snippet_index', 'nl_code', 'nl_context', 'nl_next_line'])"
      ]
     },
     "execution_count": 4,
     "metadata": {},
     "output_type": "execute_result"
    }
   ],
   "source": [
    "data[0].keys()"
   ]
  },
  {
   "cell_type": "code",
   "execution_count": 15,
   "id": "080d3d67-0cd4-4fda-9d2c-25349894a841",
   "metadata": {},
   "outputs": [],
   "source": [
    "for row in data:\n",
    "    row['cropped_context'] = ['\\n'.join(row['context'][i].split('\\n')[:5]) for i in range(len(row['context']))]"
   ]
  },
  {
   "cell_type": "code",
   "execution_count": 16,
   "id": "35af66ab-689e-4472-aab0-8115fa157602",
   "metadata": {},
   "outputs": [
    {
     "data": {
      "text/plain": [
       "['class AttrDict(OrderedDict[K, V], Generic[K, V]):\\n    \"\"\"\\n    An attribute dictionary that automatically handles nested keys joined by \"/\".\\n\\n    Originally copied from: https://stackoverflow.com/questions/3031219/recursively-access-dict-via-attributes-as-well-as-index-access',\n",
       " 'class MetaModule(nn.Module):\\n    \"\"\"\\n    Base class for PyTorch meta-learning modules. These modules accept an\\n    additional argument `params` in their `forward` method.\\n',\n",
       " 'def subdict(dictionary, key=None):\\n    if dictionary is None:\\n        return None\\n    if (key is None) or (key == \"\"):\\n        return dictionary',\n",
       " 'def sample_and_group(\\n    npoint,\\n    radius,\\n    nsample,\\n    xyz,',\n",
       " 'def sample_and_group_all(xyz, points):\\n    \"\"\"\\n    Input:\\n        xyz: input points position data, [B, N, 3]\\n        points: input points data, [B, N, D]']"
      ]
     },
     "execution_count": 16,
     "metadata": {},
     "output_type": "execute_result"
    }
   ],
   "source": [
    "data[0]['cropped_context']"
   ]
  },
  {
   "cell_type": "code",
   "execution_count": 17,
   "id": "46c7eb91-a4fb-47c6-b03a-c467ecab708b",
   "metadata": {},
   "outputs": [],
   "source": [
    "import symmetric_models "
   ]
  },
  {
   "cell_type": "code",
   "execution_count": null,
   "id": "7efc74f3-36c8-46dd-bf06-25a264d0d1c3",
   "metadata": {},
   "outputs": [
    {
     "name": "stdout",
     "output_type": "stream",
     "text": [
      "RangeIndex(start=0, stop=0, step=1)\n",
      "Random is done\n",
      "Jaccard is done\n",
      "ES is done\n"
     ]
    },
    {
     "name": "stderr",
     "output_type": "stream",
     "text": [
      "100%|█████████████████████████████████████████████████████████████████████████| 12000/12000 [00:00<00:00, 198604.91it/s]\n"
     ]
    }
   ],
   "source": [
    "symmetric_models.run_all(data, 'cropped_context', 'next_line', 'results/cropped_context.csv')"
   ]
  },
  {
   "cell_type": "code",
   "execution_count": null,
   "id": "469e8c96-1fa8-40c0-9103-d75c20459cf4",
   "metadata": {},
   "outputs": [],
   "source": []
  }
 ],
 "metadata": {
  "kernelspec": {
   "display_name": "Python 3 (ipykernel)",
   "language": "python",
   "name": "python3"
  },
  "language_info": {
   "codemirror_mode": {
    "name": "ipython",
    "version": 3
   },
   "file_extension": ".py",
   "mimetype": "text/x-python",
   "name": "python",
   "nbconvert_exporter": "python",
   "pygments_lexer": "ipython3",
   "version": "3.10.12"
  },
  "widgets": {
   "application/vnd.jupyter.widget-state+json": {
    "state": {},
    "version_major": 2,
    "version_minor": 0
   }
  }
 },
 "nbformat": 4,
 "nbformat_minor": 5
}
