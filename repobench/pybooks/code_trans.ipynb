{
 "cells": [
  {
   "cell_type": "code",
   "execution_count": 5,
   "metadata": {},
   "outputs": [],
   "source": [
    "from transformers import AutoTokenizer, AutoModelWithLMHead, SummarizationPipeline"
   ]
  },
  {
   "cell_type": "code",
   "execution_count": 6,
   "metadata": {},
   "outputs": [],
   "source": [
    "model_size = \"base\"\n",
    "model_id = f\"SEBIS/code_trans_t5_{model_size}_source_code_summarization_python\""
   ]
  },
  {
   "cell_type": "code",
   "execution_count": 7,
   "metadata": {},
   "outputs": [],
   "source": [
    "pipeline = SummarizationPipeline(\n",
    "    model=AutoModelWithLMHead.from_pretrained(model_id),\n",
    "    tokenizer=AutoTokenizer.from_pretrained(model_id, skip_special_tokens=True),\n",
    "    device=0,\n",
    ")"
   ]
  },
  {
   "cell_type": "code",
   "execution_count": 13,
   "metadata": {},
   "outputs": [],
   "source": [
    "code_snippet = \"\"\"def svg_to_image(string, size=None):\n",
    "    if isinstance(string, unicode):\n",
    "        string = string.encode('utf-8')\n",
    "    renderer = QtSvg.QSvgRenderer(QtCore.QByteArray(string))\n",
    "    if not renderer.isValid():\n",
    "        raise ValueError('Invalid SVG data.')\n",
    "    if size is None:\n",
    "        size = renderer.defaultSize()\n",
    "    image = QtGui.QImage(size, QtGui.QImage.Format_ARGB32)\n",
    "    painter = QtGui.QPainter(image)\n",
    "    renderer.render(painter)\n",
    "    return image\"\"\""
   ]
  },
  {
   "cell_type": "code",
   "execution_count": 20,
   "metadata": {},
   "outputs": [
    {
     "name": "stderr",
     "output_type": "stream",
     "text": [
      "Your max_length is set to 200, but your input_length is only 113. Since this is a summarization task, where outputs shorter than the input are typically wanted, you might consider decreasing max_length manually, e.g. summarizer('...', max_length=56)\n"
     ]
    },
    {
     "data": {
      "text/plain": [
       "[[{'summary_text': 'How to make a slower timer ?'},\n",
       "  {'summary_text': 'How to use TermQuery to do an AND query across a QTreeWidget ?'}]]"
      ]
     },
     "execution_count": 20,
     "metadata": {},
     "output_type": "execute_result"
    }
   ],
   "source": [
    "pipeline(\n",
    "    [code_snippet],\n",
    "    do_sample=True,\n",
    "    temperature=0.7,\n",
    "    top_p=0.5,\n",
    "    num_return_sequences=2,\n",
    "    max_length=200,\n",
    "    )"
   ]
  },
  {
   "cell_type": "code",
   "execution_count": 21,
   "metadata": {},
   "outputs": [
    {
     "name": "stderr",
     "output_type": "stream",
     "text": [
      "/home/sir_timio/.local/lib/python3.10/site-packages/transformers/pipelines/base.py:1101: UserWarning: You seem to be using the pipelines sequentially on GPU. In order to maximize efficiency please use a dataset\n",
      "  warnings.warn(\n",
      "Your max_length is set to 200, but your input_length is only 36. Since this is a summarization task, where outputs shorter than the input are typically wanted, you might consider decreasing max_length manually, e.g. summarizer('...', max_length=18)\n"
     ]
    },
    {
     "data": {
      "text/plain": [
       "[[{'summary_text': 'How to make a function that returns a list of functions its arguments ?'},\n",
       "  {'summary_text': 'How to make a function that returns a bound to a list of a function ?'}]]"
      ]
     },
     "execution_count": 21,
     "metadata": {},
     "output_type": "execute_result"
    }
   ],
   "source": [
    "code_snippet=\"\"\"\n",
    "def fibonacci(n):\n",
    "    if n == 0:\n",
    "        return 0\n",
    "    elif n == 1:\n",
    "        return 1\n",
    "    else:\n",
    "        return fibonacci(n-1) + fibonacci(n-2)\n",
    "\"\"\"\n",
    "pipeline(\n",
    "    [code_snippet],\n",
    "    do_sample=True,\n",
    "    temperature=0.9,\n",
    "    top_p=0.5,\n",
    "    num_return_sequences=2,\n",
    "    max_length=200,\n",
    "    )"
   ]
  },
  {
   "cell_type": "code",
   "execution_count": 25,
   "metadata": {},
   "outputs": [
    {
     "name": "stderr",
     "output_type": "stream",
     "text": [
      "Your max_length is set to 200, but your input_length is only 172. Since this is a summarization task, where outputs shorter than the input are typically wanted, you might consider decreasing max_length manually, e.g. summarizer('...', max_length=86)\n"
     ]
    },
    {
     "data": {
      "text/plain": [
       "[{'summary_text': 'How to make a custom event with a masked object ?'}]"
      ]
     },
     "execution_count": 25,
     "metadata": {},
     "output_type": "execute_result"
    }
   ],
   "source": [
    "code_snippet = \"\"\"\n",
    "def history_to_hash(npz: Union[None, str, FullGeneration]):\n",
    "    if npz is None:\n",
    "        return get_md5_hex(b\"None\")\n",
    "    if isinstance(npz, str):\n",
    "        return get_hash_from_voice_name(npz)\n",
    "    npz_str = json.dumps(\n",
    "        {\n",
    "            \"semantic_prompt\": npz[\"semantic_prompt\"].tolist(),\n",
    "            \"coarse_prompt\": npz[\"coarse_prompt\"].tolist(),\n",
    "            \"fine_prompt\": npz[\"fine_prompt\"].tolist(),\n",
    "        }\n",
    "    )\n",
    "    npz_as_str = npz_str.encode(\"utf-8\")\n",
    "    return get_md5_hex(npz_as_str)\n",
    "\"\"\"\n",
    "pipeline(\n",
    "    [code_snippet],\n",
    "    do_sample=False,\n",
    "    # temperature=0.1,\n",
    "    # top_p=0.1,\n",
    "    num_return_sequences=1,\n",
    "    max_length=200,\n",
    "    )"
   ]
  },
  {
   "cell_type": "code",
   "execution_count": null,
   "metadata": {},
   "outputs": [],
   "source": []
  }
 ],
 "metadata": {
  "interpreter": {
   "hash": "8a94588eda9d64d9e9a351ab8144e55b1fabf5113b54e67dd26a8c27df0381b3"
  },
  "kernelspec": {
   "display_name": "Python 3 (ipykernel)",
   "language": "python",
   "name": "python3"
  },
  "language_info": {
   "codemirror_mode": {
    "name": "ipython",
    "version": 3
   },
   "file_extension": ".py",
   "mimetype": "text/x-python",
   "name": "python",
   "nbconvert_exporter": "python",
   "pygments_lexer": "ipython3",
   "version": "3.10.12"
  }
 },
 "nbformat": 4,
 "nbformat_minor": 4
}
