{
 "cells": [
  {
   "cell_type": "code",
   "execution_count": 3,
   "id": "a40d2944-243f-4c18-9133-571cd98366ee",
   "metadata": {},
   "outputs": [],
   "source": [
    "import os\n",
    "os.environ['CUDA_VISIBLE_DEVICES'] = '0,1,2'\n",
    "os.environ['CUDA_DEVICE_ORDER'] = 'PCI_BUS_ID'"
   ]
  },
  {
   "cell_type": "code",
   "execution_count": 2,
   "id": "e6c6f220-7f24-40f3-acda-8cdce7adb26a",
   "metadata": {},
   "outputs": [],
   "source": [
    "import transformers\n",
    "from transformers import AutoModelForCausalLM, AutoTokenizer\n",
    "device = \"cuda\"\n",
    "\n",
    "import torch"
   ]
  },
  {
   "cell_type": "code",
   "execution_count": 11,
   "id": "124df146-6f50-4f0e-99a9-8dbd26cbc547",
   "metadata": {},
   "outputs": [
    {
     "name": "stderr",
     "output_type": "stream",
     "text": [
      "/home/sir_timio/.local/lib/python3.10/site-packages/fuzzywuzzy/fuzz.py:11: UserWarning: Using slow pure-python SequenceMatcher. Install python-Levenshtein to remove this warning\n",
      "  warnings.warn('Using slow pure-python SequenceMatcher. Install python-Levenshtein to remove this warning')\n"
     ]
    }
   ],
   "source": [
    "import sys\n",
    "sys.path.append('../')\n",
    "from utils import load_data, replace_class_and_function_names, remove_docstrings\n",
    "from metrics import accuracy_at_k"
   ]
  },
  {
   "cell_type": "code",
   "execution_count": 12,
   "id": "c928cfcb-a61b-492e-8790-e08081147b9f",
   "metadata": {},
   "outputs": [],
   "source": [
    "# !pip -qqq install bitsandbytes accelerate"
   ]
  },
  {
   "cell_type": "code",
   "execution_count": 8,
   "id": "074cd463-e775-4898-a27a-3f7712767439",
   "metadata": {},
   "outputs": [
    {
     "data": {
      "application/json": {
       "ascii": false,
       "bar_format": null,
       "colour": null,
       "elapsed": 0.005664825439453125,
       "initial": 0,
       "n": 0,
       "ncols": null,
       "nrows": 22,
       "postfix": null,
       "prefix": "Loading checkpoint shards",
       "rate": null,
       "total": 3,
       "unit": "it",
       "unit_divisor": 1000,
       "unit_scale": false
      },
      "application/vnd.jupyter.widget-view+json": {
       "model_id": "751ddd8361c946b4a54c6abe314b9364",
       "version_major": 2,
       "version_minor": 0
      },
      "text/plain": [
       "Loading checkpoint shards:   0%|          | 0/3 [00:00<?, ?it/s]"
      ]
     },
     "metadata": {},
     "output_type": "display_data"
    },
    {
     "name": "stderr",
     "output_type": "stream",
     "text": [
      "WARNING:root:Some parameters are on the meta device device because they were offloaded to the cpu.\n"
     ]
    }
   ],
   "source": [
    "model = AutoModelForCausalLM.from_pretrained(\"mistralai/Mistral-7B-Instruct-v0.2\", torch_dtype=torch.bfloat16, device_map='auto')\n",
    "tokenizer = AutoTokenizer.from_pretrained(\"mistralai/Mistral-7B-Instruct-v0.2\")"
   ]
  },
  {
   "cell_type": "code",
   "execution_count": 10,
   "id": "71419c0e-eee6-4391-92a0-d56b736eda77",
   "metadata": {},
   "outputs": [
    {
     "name": "stderr",
     "output_type": "stream",
     "text": [
      "Setting `pad_token_id` to `eos_token_id`:2 for open-end generation.\n"
     ]
    },
    {
     "data": {
      "text/plain": [
       "'<s> My favourite condiment is soy sauce. I use it in cooking, as a dipping sauce, and even as a marinade. I love the savoury, umami flavour it adds to dishes.\\n\\nBut did you know that soy sauce is not just a seasoning? It also has some health benefits. Here are some reasons why you should include soy sauce in your diet:\\n\\n1. Rich in essential minerals: Soy sauce is a good source of essential minerals'"
      ]
     },
     "execution_count": 10,
     "metadata": {},
     "output_type": "execute_result"
    }
   ],
   "source": [
    "prompt = \"My favourite condiment is\"\n",
    "\n",
    "model_inputs = tokenizer([prompt], return_tensors=\"pt\").to(device)\n",
    "\n",
    "generated_ids = model.generate(**model_inputs, max_new_tokens=100, do_sample=False)\n",
    "tokenizer.batch_decode(generated_ids)[0]"
   ]
  },
  {
   "cell_type": "code",
   "execution_count": 13,
   "id": "cb179886-7421-410d-ac8e-7861ccccfb3e",
   "metadata": {},
   "outputs": [
    {
     "name": "stderr",
     "output_type": "stream",
     "text": [
      "Loading data: 100%|████████████████████████████████████████████████████████████████████████████████████████████████████████████| 1/1 [00:05<00:00,  5.24s/it]\n"
     ]
    }
   ],
   "source": [
    "# settings :`cross_file_first`, `cross_file_random`, or `in_file`\n",
    "settings = 'cross_file_first'\n",
    "data = load_data('train', 'r', 'python', settings)"
   ]
  },
  {
   "cell_type": "code",
   "execution_count": 14,
   "id": "c15172ad-99c8-4788-8bf1-ad8f5bc6cf55",
   "metadata": {},
   "outputs": [],
   "source": [
    "# raw_samples = np.random.choice(data['easy'], n_samples)\n",
    "raw_samples = data['easy']"
   ]
  },
  {
   "cell_type": "code",
   "execution_count": 19,
   "id": "70b031e3-5422-448d-9617-eecb3ac4ba6b",
   "metadata": {},
   "outputs": [],
   "source": [
    "sample = raw_samples[1]"
   ]
  },
  {
   "cell_type": "code",
   "execution_count": 20,
   "id": "2f224e21-1c25-4bcf-ac47-46e2b26ae1a9",
   "metadata": {},
   "outputs": [
    {
     "name": "stdout",
     "output_type": "stream",
     "text": [
      "    node = NodeFactory(host_identifier='foobar', enroll_secret='foobar')\n"
     ]
    }
   ],
   "source": [
    "print(sample['next_line'])"
   ]
  },
  {
   "cell_type": "code",
   "execution_count": 25,
   "id": "ced6eaef-f83e-4f54-89cc-ca86b26c1657",
   "metadata": {},
   "outputs": [],
   "source": [
    "next_line_prompt = \"Using natural language, describe the following line of code: \""
   ]
  },
  {
   "cell_type": "code",
   "execution_count": 26,
   "id": "000c7e79-e659-4720-a04c-88760042c2a5",
   "metadata": {},
   "outputs": [
    {
     "name": "stdout",
     "output_type": "stream",
     "text": [
      "Using natural language, describe the following line of code: node = NodeFactory(host_identifier='foobar', enroll_secret='foobar')\n"
     ]
    }
   ],
   "source": [
    "print(next_line_prompt + sample['next_line'].strip())"
   ]
  },
  {
   "cell_type": "code",
   "execution_count": 27,
   "id": "da4df82e-186a-426e-bf06-0589183bebea",
   "metadata": {},
   "outputs": [],
   "source": [
    "model_inputs = tokenizer([next_line_prompt + sample['next_line'].strip()], return_tensors=\"pt\").to(device)"
   ]
  },
  {
   "cell_type": "code",
   "execution_count": 30,
   "id": "9032d5f3-8dac-46cf-9cae-9cde014d46f4",
   "metadata": {},
   "outputs": [
    {
     "name": "stderr",
     "output_type": "stream",
     "text": [
      "Setting `pad_token_id` to `eos_token_id`:2 for open-end generation.\n"
     ]
    }
   ],
   "source": [
    "generated_ids = model.generate(**model_inputs, max_new_tokens=100, do_sample=False)"
   ]
  },
  {
   "cell_type": "code",
   "execution_count": 32,
   "id": "9c1165a3-0787-4270-a8f4-90c8e1b8677e",
   "metadata": {},
   "outputs": [
    {
     "name": "stdout",
     "output_type": "stream",
     "text": [
      "<s> Using natural language, describe the following line of code: node = NodeFactory(host_identifier='foobar', enroll_secret='foobar')\n",
      "\n",
      "This line of code creates a new instance of a Node object, named 'node', using the NodeFactory class. The NodeFactory is likely a factory method or class responsible for creating new Node objects. The new Node object is initialized with two keyword arguments: 'host_identifier' and 'enroll_secret', both of which are set to the string value 'foobar'. These arguments are likely used to uniquely identify the node and provide a secret key for enrolling it into\n"
     ]
    }
   ],
   "source": [
    "print(tokenizer.batch_decode(generated_ids)[0])"
   ]
  },
  {
   "cell_type": "code",
   "execution_count": 34,
   "id": "0d655e4f-c486-43dd-9954-4ced6852d0e8",
   "metadata": {},
   "outputs": [
    {
     "name": "stdout",
     "output_type": "stream",
     "text": [
      "def create_app(config=ProdConfig):\n",
      "    app = Flask(__name__)\n",
      "    app.config.from_object(config)\n",
      "    app.config.from_envvar('DOORMAN_SETTINGS', silent=True)\n",
      "\n",
      "    register_blueprints(app)\n",
      "    register_errorhandlers(app)\n",
      "    register_loggers(app)\n",
      "    register_extensions(app)\n",
      "    register_auth_method(app)\n",
      "    register_filters(app)\n",
      "\n",
      "    return app\n"
     ]
    }
   ],
   "source": [
    "print(sample['context'][0])"
   ]
  },
  {
   "cell_type": "code",
   "execution_count": 36,
   "id": "8b8b8586-e20a-4439-81df-8edc491f9634",
   "metadata": {},
   "outputs": [],
   "source": [
    "summary_prompt = \"Summarize the following code, I will tip you 200 bucks: \\n\""
   ]
  },
  {
   "cell_type": "code",
   "execution_count": 40,
   "id": "b00c4aae-ae51-4bc2-bff1-f1fe8e901464",
   "metadata": {},
   "outputs": [
    {
     "name": "stdout",
     "output_type": "stream",
     "text": [
      "Summarize the following code, I will tip you 200 bucks: \n",
      "def create_app(config=ProdConfig):\n",
      "    app = Flask(__name__)\n",
      "    app.config.from_object(config)\n",
      "    app.config.from_envvar('DOORMAN_SETTINGS', silent=True)\n",
      "\n",
      "    register_blueprints(app)\n",
      "    register_errorhandlers(app)\n",
      "    register_loggers(app)\n",
      "    register_extensions(app)\n",
      "    register_auth_method(app)\n",
      "    register_filters(app)\n",
      "\n",
      "    return app\n"
     ]
    }
   ],
   "source": [
    "print(summary_prompt + sample['context'][0])"
   ]
  },
  {
   "cell_type": "code",
   "execution_count": 37,
   "id": "5a46696c-5b30-41c6-b2ec-c4fcf489edb6",
   "metadata": {},
   "outputs": [],
   "source": [
    "model_inputs = tokenizer([summary_prompt + sample['context'][0]], return_tensors=\"pt\").to(device)"
   ]
  },
  {
   "cell_type": "code",
   "execution_count": 38,
   "id": "be0fe981-7e87-4056-b984-25e59275e7ad",
   "metadata": {},
   "outputs": [
    {
     "name": "stderr",
     "output_type": "stream",
     "text": [
      "Setting `pad_token_id` to `eos_token_id`:2 for open-end generation.\n"
     ]
    },
    {
     "name": "stdout",
     "output_type": "stream",
     "text": [
      "CPU times: user 50.3 s, sys: 4.88 s, total: 55.2 s\n",
      "Wall time: 55.1 s\n"
     ]
    }
   ],
   "source": [
    "%%time\n",
    "generated_ids = model.generate(**model_inputs, max_new_tokens=100, do_sample=False)"
   ]
  },
  {
   "cell_type": "code",
   "execution_count": 39,
   "id": "d6046858-3227-4752-86b7-b3467812588d",
   "metadata": {
    "scrolled": true
   },
   "outputs": [
    {
     "name": "stdout",
     "output_type": "stream",
     "text": [
      "<s> Summarize the following code, I will tip you 200 bucks: \n",
      "def create_app(config=ProdConfig):\n",
      "    app = Flask(__name__)\n",
      "    app.config.from_object(config)\n",
      "    app.config.from_envvar('DOORMAN_SETTINGS', silent=True)\n",
      "\n",
      "    register_blueprints(app)\n",
      "    register_errorhandlers(app)\n",
      "    register_loggers(app)\n",
      "    register_extensions(app)\n",
      "    register_auth_method(app)\n",
      "    register_filters(app)\n",
      "\n",
      "    return app\n",
      "\n",
      "def register_blueprints(app):\n",
      "    from . import auth, main, api\n",
      "    app.register_blueprint(auth.bp)\n",
      "    app.register_blueprint(main.bp)\n",
      "    app.register_blueprint(api.bp)\n",
      "\n",
      "def register_errorhandlers(app):\n",
      "    from . import errors\n",
      "    app.register_error_handler(400, errors.BadRequestError)\n",
      "    app.\n"
     ]
    }
   ],
   "source": [
    "print(tokenizer.batch_decode(generated_ids)[0])"
   ]
  },
  {
   "cell_type": "code",
   "execution_count": 41,
   "id": "bb629640-954a-4230-8851-abb3f8cfe833",
   "metadata": {},
   "outputs": [],
   "source": [
    "summary_prompt = \"Please provide a summary in natural language of what the following code does:\\n\""
   ]
  },
  {
   "cell_type": "code",
   "execution_count": 42,
   "id": "fdcc85da-1cde-4b48-b146-3bf74ac931cb",
   "metadata": {},
   "outputs": [
    {
     "name": "stderr",
     "output_type": "stream",
     "text": [
      "Setting `pad_token_id` to `eos_token_id`:2 for open-end generation.\n"
     ]
    }
   ],
   "source": [
    "model_inputs = tokenizer([summary_prompt + sample['context'][0]], return_tensors=\"pt\").to(device)\n",
    "generated_ids = model.generate(**model_inputs, max_new_tokens=150, do_sample=False)"
   ]
  },
  {
   "cell_type": "code",
   "execution_count": 43,
   "id": "ce927e35-b890-40fa-9997-5dce341cd35b",
   "metadata": {},
   "outputs": [
    {
     "name": "stdout",
     "output_type": "stream",
     "text": [
      "<s> Please provide a summary in natural language of what the following code does:\n",
      "def create_app(config=ProdConfig):\n",
      "    app = Flask(__name__)\n",
      "    app.config.from_object(config)\n",
      "    app.config.from_envvar('DOORMAN_SETTINGS', silent=True)\n",
      "\n",
      "    register_blueprints(app)\n",
      "    register_errorhandlers(app)\n",
      "    register_loggers(app)\n",
      "    register_extensions(app)\n",
      "    register_auth_method(app)\n",
      "    register_filters(app)\n",
      "\n",
      "    return app\n",
      "\n",
      "This code defines a function called `create_app` that creates a new Flask web application. The function takes an optional argument `config`, which defaults to an instance of the `ProdConfig` class. The function sets the application's configuration by loading the settings from the given configuration object and from environment variables with the name `DOORMAN_SETTINGS`.\n",
      "\n",
      "The function then registers various components of the application, including blueprints, error handlers, loggers, extensions, and an authentication method. It also registers filters that can be used to modify the output of templates or views.\n",
      "\n",
      "Finally, the function returns the newly created Flask application instance.</s>\n"
     ]
    }
   ],
   "source": [
    "print(tokenizer.batch_decode(generated_ids)[0])"
   ]
  },
  {
   "cell_type": "code",
   "execution_count": 44,
   "id": "4b21e067-c439-4494-b344-c2c75a93f1c1",
   "metadata": {
    "scrolled": true
   },
   "outputs": [
    {
     "name": "stdout",
     "output_type": "stream",
     "text": [
      "# -*- coding: utf-8 -*-\n",
      "\"\"\"Defines fixtures available to all tests.\"\"\"\n",
      "\n",
      "\n",
      "\n",
      "\n",
      "\n",
      "@pytest.yield_fixture(scope='function')\n",
      "def app():\n",
      "    \"\"\"An application for the tests.\"\"\"\n",
      "    _app = create_app(config=TestConfig)\n",
      "    ctx = _app.test_request_context()\n",
      "    ctx.push()\n",
      "\n",
      "    try:\n",
      "        yield _app\n",
      "    finally:\n",
      "        ctx.pop()\n",
      "\n",
      "\n",
      "@pytest.yield_fixture(scope='function')\n",
      "def api():\n",
      "    \"\"\"An api instance for the tests, no manager\"\"\"\n",
      "    # the mere presence of the env var should prevent the manage\n",
      "    # blueprint from being registered\n",
      "    os.environ['DOORMAN_NO_MANAGER'] = '1'\n",
      "\n",
      "    _app = create_app(config=TestConfig)\n",
      "    ctx = _app.test_request_context()\n",
      "    ctx.push()\n",
      "\n",
      "    try:\n",
      "        yield _app\n",
      "    finally:\n",
      "        ctx.pop()\n",
      "\n",
      "\n",
      "@pytest.fixture(scope='function')\n",
      "def testapp(app):\n",
      "    \"\"\"A Webtest app.\"\"\"\n",
      "    return TestApp(app)\n",
      "\n",
      "\n",
      "@pytest.fixture(scope='function')\n",
      "def testapi(api):\n",
      "    return TestApp(api)\n",
      "\n",
      "\n",
      "@pytest.yield_fixture(scope='function')\n",
      "def db(app):\n",
      "    \"\"\"A database for the tests.\"\"\"\n",
      "    _db.app = app\n",
      "    with app.app_context():\n",
      "        _db.create_all()\n",
      "\n",
      "    yield _db\n",
      "\n",
      "    # Explicitly close DB connection\n",
      "    _db.session.close()\n",
      "    _db.drop_all()\n",
      "\n",
      "\n",
      "@pytest.fixture\n",
      "def node(db):\n",
      "    \"\"\"A node for the tests.\"\"\"\n",
      "\n"
     ]
    }
   ],
   "source": [
    "print(sample['code'])"
   ]
  },
  {
   "cell_type": "code",
   "execution_count": 45,
   "id": "cb96fe8c-5b4e-4eef-85b1-ca8ea3818167",
   "metadata": {
    "scrolled": true
   },
   "outputs": [
    {
     "name": "stderr",
     "output_type": "stream",
     "text": [
      "Setting `pad_token_id` to `eos_token_id`:2 for open-end generation.\n"
     ]
    },
    {
     "name": "stdout",
     "output_type": "stream",
     "text": [
      "<s> Please provide a summary in natural language of what the following code does:\n",
      "# -*- coding: utf-8 -*-\n",
      "\"\"\"Defines fixtures available to all tests.\"\"\"\n",
      "\n",
      "\n",
      "\n",
      "\n",
      "\n",
      "@pytest.yield_fixture(scope='function')\n",
      "def app():\n",
      "    \"\"\"An application for the tests.\"\"\"\n",
      "    _app = create_app(config=TestConfig)\n",
      "    ctx = _app.test_request_context()\n",
      "    ctx.push()\n",
      "\n",
      "    try:\n",
      "        yield _app\n",
      "    finally:\n",
      "        ctx.pop()\n",
      "\n",
      "\n",
      "@pytest.yield_fixture(scope='function')\n",
      "def api():\n",
      "    \"\"\"An api instance for the tests, no manager\"\"\"\n",
      "    # the mere presence of the env var should prevent the manage\n",
      "    # blueprint from being registered\n",
      "    os.environ['DOORMAN_NO_MANAGER'] = '1'\n",
      "\n",
      "    _app = create_app(config=TestConfig)\n",
      "    ctx = _app.test_request_context()\n",
      "    ctx.push()\n",
      "\n",
      "    try:\n",
      "        yield _app\n",
      "    finally:\n",
      "        ctx.pop()\n",
      "\n",
      "\n",
      "@pytest.fixture(scope='function')\n",
      "def testapp(app):\n",
      "    \"\"\"A Webtest app.\"\"\"\n",
      "    return TestApp(app)\n",
      "\n",
      "\n",
      "@pytest.fixture(scope='function')\n",
      "def testapi(api):\n",
      "    return TestApp(api)\n",
      "\n",
      "\n",
      "@pytest.yield_fixture(scope='function')\n",
      "def db(app):\n",
      "    \"\"\"A database for the tests.\"\"\"\n",
      "    _db.app = app\n",
      "    with app.app_context():\n",
      "        _db.create_all()\n",
      "\n",
      "    yield _db\n",
      "\n",
      "    # Explicitly close DB connection\n",
      "    _db.session.close()\n",
      "    _db.drop_all()\n",
      "\n",
      "\n",
      "@pytest.fixture\n",
      "def node(db):\n",
      "    \"\"\"A node for the tests.\"\"\"\n",
      "    node = Node(name='testnode')\n",
      "    db.session.add(node)\n",
      "    db.session.commit()\n",
      "\n",
      "    yield node\n",
      "\n",
      "    db.session.delete(node)\n",
      "    db.session.commit()\n",
      "\n",
      "\n",
      "@pytest.fixture\n",
      "def user(db):\n",
      "    \"\"\"A user for the tests.\"\"\"\n",
      "    user = User(username='testuser', password='testpassword')\n",
      "    db.session.add(user)\n",
      "    db.session.commit()\n",
      "\n",
      "    yield user\n",
      "\n",
      "    db.session.delete(user)\n",
      "    db.session.commit()\n",
      "\n",
      "\n",
      "@pytest.fixture\n",
      "def admin(db):\n",
      "\n",
      "CPU times: user 1min 15s, sys: 7.4 s, total: 1min 22s\n",
      "Wall time: 1min 22s\n"
     ]
    }
   ],
   "source": [
    "%%time\n",
    "model_inputs = tokenizer([summary_prompt + sample['code']], return_tensors=\"pt\").to(device)\n",
    "generated_ids = model.generate(**model_inputs, max_new_tokens=150, do_sample=False)\n",
    "print(tokenizer.batch_decode(generated_ids)[0])"
   ]
  },
  {
   "cell_type": "code",
   "execution_count": 46,
   "id": "331754dd-bfbb-4ced-93cd-493ee01d1405",
   "metadata": {},
   "outputs": [],
   "source": [
    "uncomplited_summary_prompt = \"I need a plain language explanation of what this code does, not a continuation of the code. Please summarize the purpose and functionality of the following Python code:\\n\""
   ]
  },
  {
   "cell_type": "code",
   "execution_count": 47,
   "id": "72a69870-3fac-4b14-84d8-31697a8ea233",
   "metadata": {
    "scrolled": true
   },
   "outputs": [
    {
     "name": "stderr",
     "output_type": "stream",
     "text": [
      "Setting `pad_token_id` to `eos_token_id`:2 for open-end generation.\n"
     ]
    },
    {
     "name": "stdout",
     "output_type": "stream",
     "text": [
      "<s> I need a plain language explanation of what this code does, not a continuation of the code. Please summarize the purpose and functionality of the following Python code:\n",
      "# -*- coding: utf-8 -*-\n",
      "\"\"\"Defines fixtures available to all tests.\"\"\"\n",
      "\n",
      "\n",
      "\n",
      "\n",
      "\n",
      "@pytest.yield_fixture(scope='function')\n",
      "def app():\n",
      "    \"\"\"An application for the tests.\"\"\"\n",
      "    _app = create_app(config=TestConfig)\n",
      "    ctx = _app.test_request_context()\n",
      "    ctx.push()\n",
      "\n",
      "    try:\n",
      "        yield _app\n",
      "    finally:\n",
      "        ctx.pop()\n",
      "\n",
      "\n",
      "@pytest.yield_fixture(scope='function')\n",
      "def api():\n",
      "    \"\"\"An api instance for the tests, no manager\"\"\"\n",
      "    # the mere presence of the env var should prevent the manage\n",
      "    # blueprint from being registered\n",
      "    os.environ['DOORMAN_NO_MANAGER'] = '1'\n",
      "\n",
      "    _app = create_app(config=TestConfig)\n",
      "    ctx = _app.test_request_context()\n",
      "    ctx.push()\n",
      "\n",
      "    try:\n",
      "        yield _app\n",
      "    finally:\n",
      "        ctx.pop()\n",
      "\n",
      "\n",
      "@pytest.fixture(scope='function')\n",
      "def testapp(app):\n",
      "    \"\"\"A Webtest app.\"\"\"\n",
      "    return TestApp(app)\n",
      "\n",
      "\n",
      "@pytest.fixture(scope='function')\n",
      "def testapi(api):\n",
      "    return TestApp(api)\n",
      "\n",
      "\n",
      "@pytest.yield_fixture(scope='function')\n",
      "def db(app):\n",
      "    \"\"\"A database for the tests.\"\"\"\n",
      "    _db.app = app\n",
      "    with app.app_context():\n",
      "        _db.create_all()\n",
      "\n",
      "    yield _db\n",
      "\n",
      "    # Explicitly close DB connection\n",
      "    _db.session.close()\n",
      "    _db.drop_all()\n",
      "\n",
      "\n",
      "@pytest.fixture\n",
      "def node(db):\n",
      "    \"\"\"A node for the tests.\"\"\"\n",
      "    node = Node(name='testnode')\n",
      "    db.session.add(node)\n",
      "    db.session.commit()\n",
      "\n",
      "    yield node\n",
      "\n",
      "    db.session.delete(node)\n",
      "    db.session.commit()\n",
      "\n",
      "\n",
      "@pytest.fixture\n",
      "def user(db):\n",
      "    \"\"\"A user for the tests.\"\"\"\n",
      "    user = User(username='testuser', password='testpassword')\n",
      "    db.session.add(user)\n",
      "    db.session.commit()\n",
      "\n",
      "    yield user\n",
      "\n",
      "    db.session.delete(user)\n",
      "    db.session.commit()\n",
      "\n",
      "\n",
      "@pytest.fixture\n",
      "def admin(db):\n",
      "\n",
      "CPU times: user 1min 15s, sys: 7.66 s, total: 1min 22s\n",
      "Wall time: 1min 22s\n"
     ]
    }
   ],
   "source": [
    "%%time\n",
    "model_inputs = tokenizer([uncomplited_summary_prompt + sample['code']], return_tensors=\"pt\").to(device)\n",
    "generated_ids = model.generate(**model_inputs, max_new_tokens=150, do_sample=False)\n",
    "print(tokenizer.batch_decode(generated_ids)[0])"
   ]
  },
  {
   "cell_type": "code",
   "execution_count": null,
   "id": "7459518c-41e0-4d44-bb3b-9d9e55d883b5",
   "metadata": {},
   "outputs": [],
   "source": []
  }
 ],
 "metadata": {
  "kernelspec": {
   "display_name": "Python 3 (ipykernel)",
   "language": "python",
   "name": "python3"
  },
  "language_info": {
   "codemirror_mode": {
    "name": "ipython",
    "version": 3
   },
   "file_extension": ".py",
   "mimetype": "text/x-python",
   "name": "python",
   "nbconvert_exporter": "python",
   "pygments_lexer": "ipython3",
   "version": "3.10.12"
  }
 },
 "nbformat": 4,
 "nbformat_minor": 5
}
