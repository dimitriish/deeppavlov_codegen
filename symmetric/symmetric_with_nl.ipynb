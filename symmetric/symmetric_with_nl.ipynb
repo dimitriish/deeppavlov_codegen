{
 "cells": [
  {
   "cell_type": "code",
   "execution_count": 1,
   "id": "dcf2b652-ab9d-4a9e-80ca-0319d7d567f5",
   "metadata": {},
   "outputs": [
    {
     "data": {
      "text/plain": [
       "12000"
      ]
     },
     "execution_count": 1,
     "metadata": {},
     "output_type": "execute_result"
    }
   ],
   "source": [
    "import json\n",
    "with open('../repobench/data/easy_fixed.jsonl', 'r') as json_file:\n",
    "    raw_data = list(json_file)\n",
    "len(raw_data)"
   ]
  },
  {
   "cell_type": "code",
   "execution_count": 2,
   "id": "6f767d01-0ba2-44b2-a75c-4e3550fe2881",
   "metadata": {},
   "outputs": [],
   "source": [
    "data = [json.loads(row) for row in raw_data]"
   ]
  },
  {
   "cell_type": "code",
   "execution_count": 3,
   "id": "a349edb4-4d39-48c7-ade9-ccc80126ce96",
   "metadata": {},
   "outputs": [
    {
     "data": {
      "text/plain": [
       "dict_keys(['repo_name', 'file_path', 'context', 'import_statement', 'code', 'next_line', 'gold_snippet_index', 'nl_code', 'nl_context', 'nl_next_line'])"
      ]
     },
     "execution_count": 3,
     "metadata": {},
     "output_type": "execute_result"
    }
   ],
   "source": [
    "data[0].keys()"
   ]
  },
  {
   "cell_type": "code",
   "execution_count": 4,
   "id": "f82d6021-2e3a-49a2-a7a4-5de29b02f514",
   "metadata": {},
   "outputs": [],
   "source": [
    "for row in data:\n",
    "    row['next_line_plus_nl'] = row['nl_next_line'] + '\\n' + row['next_line']\n",
    "    row['context_plus_nl'] = [row['nl_context'][i] + '\\n' + row['context'][i] for i in range(len(row['context']))]"
   ]
  },
  {
   "cell_type": "code",
   "execution_count": 5,
   "id": "9d39896e-2fbd-4ef0-a533-fd53e8edac8d",
   "metadata": {},
   "outputs": [
    {
     "data": {
      "text/plain": [
       "'The default view of the Veneur.\\n    return x.view(batch_size, n_ctx, n_channels), AttrDict('"
      ]
     },
     "execution_count": 5,
     "metadata": {},
     "output_type": "execute_result"
    }
   ],
   "source": [
    "data[0]['next_line_plus_nl']"
   ]
  },
  {
   "cell_type": "code",
   "execution_count": 6,
   "id": "40ea47b4-7a46-47a8-8e40-c36566b6c6fe",
   "metadata": {},
   "outputs": [
    {
     "name": "stderr",
     "output_type": "stream",
     "text": [
      "/data/home/dimitriishh/workspace/envs/base_env/lib/python3.10/site-packages/fuzzywuzzy/fuzz.py:11: UserWarning: Using slow pure-python SequenceMatcher. Install python-Levenshtein to remove this warning\n",
      "  warnings.warn('Using slow pure-python SequenceMatcher. Install python-Levenshtein to remove this warning')\n"
     ]
    }
   ],
   "source": [
    "import symmetric_models "
   ]
  },
  {
   "cell_type": "code",
   "execution_count": null,
   "id": "88823982-a012-4cf5-8f96-96a574955963",
   "metadata": {},
   "outputs": [
    {
     "name": "stdout",
     "output_type": "stream",
     "text": [
      "Index(['Unnamed: 0', 'Random', 'Jaccard', 'ES', 'BM25', 'Unixcoder',\n",
      "       'all-MiniLM-L6-v2', 'all-mpnet-base-v2', 'multi-qa-mpnet-base-dot-v1',\n",
      "       'all-distilroberta-v1', 'all-MiniLM-L12-v2',\n",
      "       'multi-qa-distilbert-cos-v1', 'multi-qa-MiniLM-L6-cos-v1',\n",
      "       'all-roberta-large-v1'],\n",
      "      dtype='object')\n"
     ]
    }
   ],
   "source": [
    "symmetric_models.run_all(data, 'context_plus_nl', 'next_line_plus_nl', 'results/with_nl_result_t5_code.csv')"
   ]
  },
  {
   "cell_type": "code",
   "execution_count": null,
   "id": "4a315c91-c961-4f14-9722-7ccd8ce40944",
   "metadata": {},
   "outputs": [],
   "source": []
  }
 ],
 "metadata": {
  "kernelspec": {
   "display_name": "base_kernel",
   "language": "python",
   "name": "base_kernel"
  },
  "language_info": {
   "codemirror_mode": {
    "name": "ipython",
    "version": 3
   },
   "file_extension": ".py",
   "mimetype": "text/x-python",
   "name": "python",
   "nbconvert_exporter": "python",
   "pygments_lexer": "ipython3",
   "version": "3.10.12"
  },
  "widgets": {
   "application/vnd.jupyter.widget-state+json": {
    "state": {},
    "version_major": 2,
    "version_minor": 0
   }
  }
 },
 "nbformat": 4,
 "nbformat_minor": 5
}
