{
 "cells": [
  {
   "cell_type": "code",
   "execution_count": 1,
   "id": "558ee83c-63d7-4061-b976-ab92ac119d95",
   "metadata": {},
   "outputs": [
    {
     "name": "stderr",
     "output_type": "stream",
     "text": [
      "/data/home/dimitriishh/workspace/envs/base_env/lib/python3.10/site-packages/fuzzywuzzy/fuzz.py:11: UserWarning: Using slow pure-python SequenceMatcher. Install python-Levenshtein to remove this warning\n",
      "  warnings.warn('Using slow pure-python SequenceMatcher. Install python-Levenshtein to remove this warning')\n"
     ]
    }
   ],
   "source": [
    "import torch\n",
    "from sentence_transformers import SentenceTransformer, util\n",
    "import numpy as np\n",
    "import pandas as pd\n",
    "from transformers import AutoTokenizer, AutoModel\n",
    "from tqdm import tqdm\n",
    "from fuzzywuzzy import fuzz\n",
    "from gensim import corpora\n",
    "from gensim.summarization.bm25 import BM25\n",
    "import sys\n",
    "sys.path.insert(1, '../')\n",
    "from repobench.metrics import accuracy_at_k"
   ]
  },
  {
   "cell_type": "code",
   "execution_count": 2,
   "id": "6729ae7e-6bba-4c39-a03e-17e872b8f2a1",
   "metadata": {},
   "outputs": [
    {
     "data": {
      "text/plain": [
       "12000"
      ]
     },
     "execution_count": 2,
     "metadata": {},
     "output_type": "execute_result"
    }
   ],
   "source": [
    "import json\n",
    "with open('../repobench/data/easy_fixed.jsonl', 'r') as json_file:\n",
    "    raw_data = list(json_file)\n",
    "len(raw_data)"
   ]
  },
  {
   "cell_type": "code",
   "execution_count": 3,
   "id": "56ce1a58-7acc-4d00-bdd4-8dba998c8e25",
   "metadata": {},
   "outputs": [],
   "source": [
    "data = [json.loads(row) for row in raw_data]"
   ]
  },
  {
   "cell_type": "code",
   "execution_count": 5,
   "id": "010a350c-020d-4d18-85a9-f94905cebff5",
   "metadata": {},
   "outputs": [],
   "source": [
    "for row in data:\n",
    "    row['cropped_context'] = ['\\n'.join(row['context'][i].split('\\n')[:1]) for i in range(len(row['context']))]"
   ]
  },
  {
   "cell_type": "code",
   "execution_count": 8,
   "id": "2c2f07fc-9403-4ec4-bee5-8f650bd02312",
   "metadata": {},
   "outputs": [
    {
     "data": {
      "text/plain": [
       "['class AttrDict(OrderedDict[K, V], Generic[K, V]):',\n",
       " 'class MetaModule(nn.Module):',\n",
       " 'def subdict(dictionary, key=None):',\n",
       " 'def sample_and_group(',\n",
       " 'def sample_and_group_all(xyz, points):']"
      ]
     },
     "execution_count": 8,
     "metadata": {},
     "output_type": "execute_result"
    }
   ],
   "source": [
    "data[0]['cropped_context']"
   ]
  },
  {
   "cell_type": "code",
   "execution_count": 16,
   "id": "c7d10a0c-eb9f-4efe-b45b-65c368fe52d1",
   "metadata": {},
   "outputs": [],
   "source": [
    "gold_snippets = [data[i]['gold_snippet_index'] for i in range(len(data))]"
   ]
  },
  {
   "cell_type": "code",
   "execution_count": 10,
   "id": "14aca74f-8322-4929-96d6-2923095c1243",
   "metadata": {},
   "outputs": [],
   "source": [
    "snippets_col = 'cropped_context'\n",
    "query_col = 'next_line'"
   ]
  },
  {
   "cell_type": "code",
   "execution_count": 31,
   "id": "6697f00f-f78b-44a7-bde9-ca61c80be22a",
   "metadata": {},
   "outputs": [],
   "source": [
    "embedder = SentenceTransformer('all-MiniLM-L12-v2')\n",
    "cos_scores = []\n",
    "sorted_snippets = []\n",
    "for i in range(len(data)):\n",
    "    # Corpus with example sentences\n",
    "    corpus_embeddings = embedder.encode(data[i][snippets_col], convert_to_tensor=True)\n",
    "    # Query sentences:\n",
    "    query_embedding = embedder.encode(data[i][query_col], convert_to_tensor=True)\n",
    "    cur_scores = util.cos_sim(query_embedding, corpus_embeddings)[0].cpu()\n",
    "    cos_scores.append(cur_scores)\n",
    "    sorted_snippets.append(torch.argsort(cur_scores, descending=True))\n",
    "pd.DataFrame({\n",
    "    'cos_scores': cos_scores,\n",
    "    'sorted_snippets': sorted_snippets\n",
    "}).to_csv('all_miniLM-L12-cropped.csv')"
   ]
  },
  {
   "cell_type": "code",
   "execution_count": 32,
   "id": "b2af95e3-e407-402b-9e44-36f35f7b6c53",
   "metadata": {},
   "outputs": [],
   "source": [
    "embedder = SentenceTransformer('all-distilroberta-v1')\n",
    "cos_scores = []\n",
    "sorted_snippets = []\n",
    "for i in range(len(data)):\n",
    "    # Corpus with example sentences\n",
    "    corpus_embeddings = embedder.encode(data[i][snippets_col], convert_to_tensor=True)\n",
    "    # Query sentences:\n",
    "    query_embedding = embedder.encode(data[i][query_col], convert_to_tensor=True)\n",
    "    cur_scores = util.cos_sim(query_embedding, corpus_embeddings)[0].cpu()\n",
    "    cos_scores.append(cur_scores)\n",
    "    sorted_snippets.append(torch.argsort(cur_scores, descending=True))\n",
    "pd.DataFrame({\n",
    "    'cos_scores': cos_scores,\n",
    "    'sorted_snippets': sorted_snippets\n",
    "}).to_csv('all-distilroberta-cropped.csv')"
   ]
  },
  {
   "cell_type": "code",
   "execution_count": 33,
   "id": "f2b96217-e116-4917-9711-b739a92ec6ee",
   "metadata": {},
   "outputs": [],
   "source": [
    "embedder = SentenceTransformer('intfloat/e5-large-v2')\n",
    "cos_scores = []\n",
    "sorted_snippets = []\n",
    "for i in range(len(data)):\n",
    "    # Corpus with example sentences\n",
    "    corpus_embeddings = embedder.encode(data[i][snippets_col], convert_to_tensor=True)\n",
    "    # Query sentences:\n",
    "    query_embedding = embedder.encode(data[i][query_col], convert_to_tensor=True)\n",
    "    cur_scores = util.cos_sim(query_embedding, corpus_embeddings)[0].cpu()\n",
    "    cos_scores.append(cur_scores)\n",
    "    sorted_snippets.append(torch.argsort(cur_scores, descending=True))\n",
    "pd.DataFrame({\n",
    "    'cos_scores': cos_scores,\n",
    "    'sorted_snippets': sorted_snippets\n",
    "}).to_csv('e5-large-v2-cropped.csv')"
   ]
  },
  {
   "cell_type": "code",
   "execution_count": null,
   "id": "e20037aa-8456-4b50-9689-a77bab7b054f",
   "metadata": {},
   "outputs": [],
   "source": [
    "df_mini = pd.read_csv('all_miniLM-L12-cropped.csv')\n",
    "sum_pos = 0\n",
    "sum_neg = 0\n",
    "count_pos = 0\n",
    "count_neg = 0\n",
    "\n",
    "for i in range(len(df_mini)):\n",
    "    "
   ]
  }
 ],
 "metadata": {
  "kernelspec": {
   "display_name": "base_kernel",
   "language": "python",
   "name": "base_kernel"
  },
  "language_info": {
   "codemirror_mode": {
    "name": "ipython",
    "version": 3
   },
   "file_extension": ".py",
   "mimetype": "text/x-python",
   "name": "python",
   "nbconvert_exporter": "python",
   "pygments_lexer": "ipython3",
   "version": "3.10.12"
  },
  "widgets": {
   "application/vnd.jupyter.widget-state+json": {
    "state": {},
    "version_major": 2,
    "version_minor": 0
   }
  }
 },
 "nbformat": 4,
 "nbformat_minor": 5
}
