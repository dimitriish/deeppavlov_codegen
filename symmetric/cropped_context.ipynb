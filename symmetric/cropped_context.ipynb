{
 "cells": [
  {
   "cell_type": "code",
   "execution_count": 2,
   "id": "665dd197-6beb-4067-8a58-d706161c3375",
   "metadata": {},
   "outputs": [
    {
     "data": {
      "text/plain": [
       "12000"
      ]
     },
     "execution_count": 2,
     "metadata": {},
     "output_type": "execute_result"
    }
   ],
   "source": [
    "import json\n",
    "with open('../repobench/data/easy_fixed.jsonl', 'r') as json_file:\n",
    "    raw_data = list(json_file)\n",
    "len(raw_data)"
   ]
  },
  {
   "cell_type": "code",
   "execution_count": 3,
   "id": "3eb94a17-5a82-48ee-9b34-0cf4992a4785",
   "metadata": {},
   "outputs": [],
   "source": [
    "data = [json.loads(row) for row in raw_data]"
   ]
  },
  {
   "cell_type": "code",
   "execution_count": 4,
   "id": "9c648203-89d0-4652-a711-ba65472b0597",
   "metadata": {},
   "outputs": [
    {
     "data": {
      "text/plain": [
       "dict_keys(['repo_name', 'file_path', 'context', 'import_statement', 'code', 'next_line', 'gold_snippet_index', 'nl_code', 'nl_context', 'nl_next_line'])"
      ]
     },
     "execution_count": 4,
     "metadata": {},
     "output_type": "execute_result"
    }
   ],
   "source": [
    "data[0].keys()"
   ]
  },
  {
   "cell_type": "code",
   "execution_count": 5,
   "id": "080d3d67-0cd4-4fda-9d2c-25349894a841",
   "metadata": {},
   "outputs": [],
   "source": [
    "for row in data:\n",
    "    row['cropped_context'] = ['\\n'.join(row['context'][i].split('\\n')[:5]) for i in range(len(row['context']))]"
   ]
  },
  {
   "cell_type": "code",
   "execution_count": 30,
   "id": "9d196700-80f9-4365-8246-f79120f9fbce",
   "metadata": {},
   "outputs": [],
   "source": [
    "ind=9855"
   ]
  },
  {
   "cell_type": "code",
   "execution_count": 31,
   "id": "71ad6f6c-e3a6-4f7d-a58f-24e5ee34c904",
   "metadata": {},
   "outputs": [
    {
     "data": {
      "text/plain": [
       "'        self.message = Message()'"
      ]
     },
     "execution_count": 31,
     "metadata": {},
     "output_type": "execute_result"
    }
   ],
   "source": [
    "data[ind]['next_line']"
   ]
  },
  {
   "cell_type": "code",
   "execution_count": 32,
   "id": "35af66ab-689e-4472-aab0-8115fa157602",
   "metadata": {},
   "outputs": [
    {
     "data": {
      "text/plain": [
       "['class ChromeHelper(object):\\n    _executable_path = None\\n\\n    _chrome = None\\n    _headless = False',\n",
       " 'class DbHelper:\\n    _db = MainDb()\\n\\n    @DbPersist(_db)\\n    def insert_search_results(self, media_items: list, title=None, ident_flag=True):',\n",
       " 'class SiteHelper:\\n\\n    @classmethod\\n    def is_logged_in(cls, html_text):\\n        \"\"\"',\n",
       " 'class Message(object):\\n    dbhelper = None\\n    messagecenter = None\\n    _message_schemas = []\\n    _active_clients = []',\n",
       " 'class SiteRateLimiter:\\n    def __init__(self, limit_interval: int, limit_count: int, limit_seconds: int):\\n        \"\"\"\\n        限制访问频率\\n        :param limit_interval: 单位时间（秒）',\n",
       " 'class RequestUtils:\\n    _headers = None\\n    _cookies = None\\n    _proxies = None\\n    _timeout = 20',\n",
       " 'class StringUtils:\\n\\n    @staticmethod\\n    def num_filesize(text):\\n        \"\"\"',\n",
       " 'def singleton(cls):\\n    # 创建字典用来保存类的实例对象\\n    global INSTANCES\\n\\n    def _singleton(*args, **kwargs):',\n",
       " 'class Config(object):\\n    _config = {}\\n    _config_path = None\\n    _user = None\\n']"
      ]
     },
     "execution_count": 32,
     "metadata": {},
     "output_type": "execute_result"
    }
   ],
   "source": [
    "data[ind]['cropped_context']"
   ]
  },
  {
   "cell_type": "code",
   "execution_count": 17,
   "id": "46c7eb91-a4fb-47c6-b03a-c467ecab708b",
   "metadata": {},
   "outputs": [
    {
     "name": "stderr",
     "output_type": "stream",
     "text": [
      "/data/home/dimitriishh/workspace/envs/base_env/lib/python3.10/site-packages/fuzzywuzzy/fuzz.py:11: UserWarning: Using slow pure-python SequenceMatcher. Install python-Levenshtein to remove this warning\n",
      "  warnings.warn('Using slow pure-python SequenceMatcher. Install python-Levenshtein to remove this warning')\n"
     ]
    }
   ],
   "source": [
    "import symmetric_models "
   ]
  },
  {
   "cell_type": "code",
   "execution_count": 7,
   "id": "7efc74f3-36c8-46dd-bf06-25a264d0d1c3",
   "metadata": {},
   "outputs": [
    {
     "name": "stdout",
     "output_type": "stream",
     "text": [
      "Index(['Unnamed: 0', 'Random', 'Jaccard', 'ES', 'BM25'], dtype='object')\n"
     ]
    },
    {
     "name": "stderr",
     "output_type": "stream",
     "text": [
      "/data/home/dimitriishh/workspace/repos/deeppavlov_codegen/symmetric/symmetric_models.py:92: UserWarning: To copy construct from a tensor, it is recommended to use sourceTensor.clone().detach() or sourceTensor.clone().detach().requires_grad_(True), rather than torch.tensor(sourceTensor).\n",
      "  return torch.tensor(model(torch.tensor(tokens_ids).to(device))[1])\n"
     ]
    },
    {
     "name": "stdout",
     "output_type": "stream",
     "text": [
      "Unixcoder is done\n",
      "all-MiniLM-L6-v2 is done\n",
      "all-mpnet-base-v2 is done\n",
      "multi-qa-mpnet-base-dot-v1 is done\n",
      "all-distilroberta-v1 is done\n",
      "all-MiniLM-L12-v2 is done\n",
      "multi-qa-distilbert-cos-v1 is done\n",
      "multi-qa-MiniLM-L6-cos-v1 is done\n",
      "all-roberta-large-v1 is done\n",
      "e5-large is done\n",
      "e5-large-v2 is done\n",
      "llmrails/ember-v1 is done\n",
      "thenlper/gte-large is done\n"
     ]
    }
   ],
   "source": [
    "symmetric_models.run_all(data, 'cropped_context', 'next_line', 'results/cropped_context.csv')"
   ]
  },
  {
   "cell_type": "code",
   "execution_count": null,
   "id": "469e8c96-1fa8-40c0-9103-d75c20459cf4",
   "metadata": {},
   "outputs": [],
   "source": []
  }
 ],
 "metadata": {
  "kernelspec": {
   "display_name": "Python 3 (ipykernel)",
   "language": "python",
   "name": "python3"
  },
  "language_info": {
   "codemirror_mode": {
    "name": "ipython",
    "version": 3
   },
   "file_extension": ".py",
   "mimetype": "text/x-python",
   "name": "python",
   "nbconvert_exporter": "python",
   "pygments_lexer": "ipython3",
   "version": "3.10.12"
  },
  "widgets": {
   "application/vnd.jupyter.widget-state+json": {
    "state": {},
    "version_major": 2,
    "version_minor": 0
   }
  }
 },
 "nbformat": 4,
 "nbformat_minor": 5
}
