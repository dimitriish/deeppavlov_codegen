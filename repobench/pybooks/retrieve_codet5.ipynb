{
 "cells": [
  {
   "cell_type": "code",
   "execution_count": 1,
   "metadata": {},
   "outputs": [],
   "source": [
    "import os"
   ]
  },
  {
   "cell_type": "code",
   "execution_count": 2,
   "metadata": {},
   "outputs": [],
   "source": [
    "os.environ['CUDA_VISIBLE_DEVICES'] = '1'\n",
    "os.environ['CUDA_DEVICE_ORDER'] = 'PCI_BUS_ID'"
   ]
  },
  {
   "cell_type": "code",
   "execution_count": 3,
   "metadata": {},
   "outputs": [
    {
     "name": "stderr",
     "output_type": "stream",
     "text": [
      "/home/sir_timio/.local/lib/python3.10/site-packages/fuzzywuzzy/fuzz.py:11: UserWarning: Using slow pure-python SequenceMatcher. Install python-Levenshtein to remove this warning\n",
      "  warnings.warn('Using slow pure-python SequenceMatcher. Install python-Levenshtein to remove this warning')\n"
     ]
    }
   ],
   "source": [
    "import sys\n",
    "sys.path.append('../')\n",
    "from utils import load_data\n",
    "from metrics import accuracy_at_k\n",
    "from transformers import AutoModel, AutoTokenizer"
   ]
  },
  {
   "cell_type": "code",
   "execution_count": 4,
   "metadata": {},
   "outputs": [],
   "source": [
    "import pandas as pd\n",
    "import numpy as np\n",
    "import scipy\n",
    "from scipy.spatial.distance import cosine\n",
    "import torch\n",
    "from tqdm import tqdm"
   ]
  },
  {
   "cell_type": "code",
   "execution_count": 5,
   "metadata": {},
   "outputs": [],
   "source": [
    "np.random.seed(42)"
   ]
  },
  {
   "cell_type": "code",
   "execution_count": 6,
   "metadata": {},
   "outputs": [],
   "source": [
    "checkpoint = \"Salesforce/codet5p-110m-embedding\"\n",
    "device = \"cuda\"\n",
    "\n",
    "tokenizer = AutoTokenizer.from_pretrained(checkpoint, trust_remote_code=True)\n",
    "model = AutoModel.from_pretrained(checkpoint, trust_remote_code=True).to(device)"
   ]
  },
  {
   "cell_type": "code",
   "execution_count": 7,
   "metadata": {},
   "outputs": [
    {
     "name": "stdout",
     "output_type": "stream",
     "text": [
      "\n"
     ]
    }
   ],
   "source": [
    "model.eval()\n",
    "print()"
   ]
  },
  {
   "cell_type": "code",
   "execution_count": 8,
   "metadata": {},
   "outputs": [
    {
     "name": "stderr",
     "output_type": "stream",
     "text": [
      "Loading data: 100%|████████████████████████████████████████████████████████████████████████████████████████████████████████████████████████████████████████████████████████████████████████████████████████████████████████████████████████████████████████████████| 1/1 [00:04<00:00,  4.93s/it]\n"
     ]
    }
   ],
   "source": [
    "# settings :`cross_file_first`, `cross_file_random`, or `in_file`\n",
    "settings = 'cross_file_first'\n",
    "data = load_data('train', 'r', 'python', settings)"
   ]
  },
  {
   "cell_type": "code",
   "execution_count": 9,
   "metadata": {},
   "outputs": [],
   "source": [
    "n_samples = 1_000"
   ]
  },
  {
   "cell_type": "code",
   "execution_count": 12,
   "metadata": {},
   "outputs": [],
   "source": [
    "raw_samples = np.random.choice(data['easy'], n_samples)\n",
    "# raw_samples = data['easy']"
   ]
  },
  {
   "cell_type": "code",
   "execution_count": 20,
   "metadata": {},
   "outputs": [],
   "source": [
    "def print_metrics(preds, gts, ks=[1, 3, 5]):\n",
    "    for k in ks:\n",
    "        print(f'accuracy@{k}: {accuracy_at_k(preds, gts, k=k)}')"
   ]
  },
  {
   "cell_type": "code",
   "execution_count": 13,
   "metadata": {},
   "outputs": [],
   "source": [
    "def get_embedding(src, tokenizer, model, device=device):\n",
    "    tokens = tokenizer.encode(src, truncation=True, max_length=512, return_tensors=\"pt\")\n",
    "    embedd = model(tokens.to(device))[0].detach().cpu()\n",
    "    return embedd"
   ]
  },
  {
   "cell_type": "code",
   "execution_count": 14,
   "metadata": {},
   "outputs": [],
   "source": [
    "# samples = []\n",
    "# for i, raw_sample in tqdm(enumerate(raw_samples), total=len(raw_samples)):\n",
    "#     sample = {}\n",
    "#     sample['code'] = tokenizer.encode(raw_sample['code'], return_tensors=\"pt\")\n",
    "#     sample['context'] = [tokenizer.encode(c, return_tensors=\"pt\") for c in raw_sample['context']]\n",
    "#     sample['target'] = raw_sample['golden_snippet_index']\n",
    "#     sample['next_line'] = tokenizer.encode(raw_sample['next_line'], return_tensors=\"pt\")\n",
    "#     samples.append(sample)"
   ]
  },
  {
   "cell_type": "code",
   "execution_count": 15,
   "metadata": {},
   "outputs": [],
   "source": [
    "# preds, gts = [], []\n",
    "\n",
    "# for sample in tqdm(samples):\n",
    "#     with torch.inference_mode():\n",
    "#         nl_embedding = model(sample['next_line'].to(device))[0].detach().cpu()\n",
    "#         context_embedding = torch.stack([model(ct[:10].to(device))[0].detach().cpu() for ct in sample['context']])\n",
    "#         dist = nl_embedding @ context_embedding.T\n",
    "#         preds.append(dist.argmax().item())\n",
    "#         gts.append(sample['target'])"
   ]
  },
  {
   "cell_type": "code",
   "execution_count": 16,
   "metadata": {
    "scrolled": true
   },
   "outputs": [
    {
     "name": "stderr",
     "output_type": "stream",
     "text": [
      "100%|████████████████████████████████████████████████████████████████████████████████████████████████████████████████████████████████████████████████████████████████████████████████████████████████████████████████████████████████████████████████████████| 1000/1000 [02:24<00:00,  6.90it/s]\n"
     ]
    }
   ],
   "source": [
    "symm_preds, asymm_preds, gts = [], [], []\n",
    "\n",
    "for sample in tqdm(raw_samples):\n",
    "    with torch.inference_mode():\n",
    "        nl_embedding = get_embedding(sample['next_line'], tokenizer, model, device)\n",
    "        \n",
    "        code_embedding = get_embedding(sample['code'], tokenizer, model, device)\n",
    "        \n",
    "        context_embedding = torch.stack([get_embedding(c, tokenizer, model, device) for c in sample['context']])\n",
    "        \n",
    "        symm_dist = nl_embedding @ context_embedding.T\n",
    "        asymm_dist = code_embedding @ context_embedding.T\n",
    "        \n",
    "        symm_preds.append(symm_dist.argsort(descending=True).numpy())\n",
    "        asymm_preds.append(asymm_dist.argsort(descending=True).numpy())\n",
    "        \n",
    "        gts.append(sample['golden_snippet_index'])"
   ]
  },
  {
   "cell_type": "code",
   "execution_count": 49,
   "metadata": {},
   "outputs": [
    {
     "name": "stdout",
     "output_type": "stream",
     "text": [
      "accuracy@1: 0.15948\n",
      "accuracy@3: 0.47827\n",
      "accuracy@5: 0.8007700000000001\n"
     ]
    }
   ],
   "source": [
    "for k in [1, 3, 5]:\n",
    "    v = np.mean([accuracy_at_k([np.random.permutation(p) for p in asymm_preds], gts, k=k) for _ in range(100)])\n",
    "    print(f'accuracy@{k}: {v}')"
   ]
  },
  {
   "cell_type": "code",
   "execution_count": 50,
   "metadata": {},
   "outputs": [
    {
     "name": "stdout",
     "output_type": "stream",
     "text": [
      "symm\n",
      "accuracy@1: 0.754\n",
      "accuracy@3: 0.909\n",
      "accuracy@5: 0.969\n",
      "assym\n",
      "accuracy@1: 0.142\n",
      "accuracy@3: 0.43\n",
      "accuracy@5: 0.797\n"
     ]
    }
   ],
   "source": [
    "print('symm')\n",
    "print_metrics(symm_preds, gts)\n",
    "print('assym')\n",
    "print_metrics(asymm_preds, gts)"
   ]
  },
  {
   "cell_type": "code",
   "execution_count": 23,
   "metadata": {
    "collapsed": true,
    "jupyter": {
     "outputs_hidden": true
    }
   },
   "outputs": [
    {
     "name": "stdout",
     "output_type": "stream",
     "text": [
      "    with ctx.cd(\".php-build\"):\n",
      "--------------------------------------------------\n",
      "    plugin = ApiritifPytestPlugin(config)\n",
      "--------------------------------------------------\n",
      "            _reparse_binary_expression([Value(3, BQScalarType.INTEGER), '+'])\n",
      "--------------------------------------------------\n",
      "        [reservation.ListReservationsRequest],\n",
      "--------------------------------------------------\n",
      "        grid, grid_name, x, y, z, t, grid_t_idx, grid_x_idx, grid_z_idx = read_file_3d(f, var, x_name='x', y_name='y', z_name='z')\n",
      "--------------------------------------------------\n",
      "    url(r'^home/$', cache_page(cache_time)(HomeListAPIView.as_view()), name='home'),\n",
      "--------------------------------------------------\n",
      "        self.add_ramp(WordRamp, 'sentence')\n",
      "--------------------------------------------------\n",
      "                    self._DataFilePaths.append(ROOT_DIR + '/' + fits_dir)\n",
      "--------------------------------------------------\n",
      "    day_req = ReqRecord.objects.filter(uri='/lab/get_proxy/', create_time__gt=start).count()\n",
      "--------------------------------------------------\n",
      "class DiscoHandler(XMPPHandler, IQHandlerMixin):\n",
      "--------------------------------------------------\n"
     ]
    }
   ],
   "source": [
    "for sample in raw_samples[:10]:\n",
    "    print(sample['next_line'])\n",
    "    print('-' * 50)"
   ]
  },
  {
   "cell_type": "code",
   "execution_count": 66,
   "metadata": {},
   "outputs": [],
   "source": [
    "import re\n",
    "def remove_docstrings(code):\n",
    "    docstring_pattern = r'(\"\"\".*?\"\"\"|\\'\\'\\'.*?\\'\\'\\')'\n",
    "    cleaned_code = re.sub(docstring_pattern, '', code, flags=re.DOTALL)\n",
    "    return cleaned_code\n",
    "    \n",
    "def replace_class_and_function_names(code):\n",
    "    \"\"\"\n",
    "    Replace all class and function names in the given code snippet with 'cls' and 'func' respectively.\n",
    "    \"\"\"\n",
    "    # Regular expression to find class and function definitions\n",
    "    class_pattern = r\"\\bclass\\s+(\\w+)\"\n",
    "    function_pattern = r\"\\bdef\\s+(\\w+)\"\n",
    "\n",
    "    # Replace class names with 'cls'\n",
    "    replaced_code = re.sub(class_pattern, \"class cls\", code)\n",
    "\n",
    "    # Replace function names with 'func', excluding special methods like __init__\n",
    "    replaced_code = re.sub(function_pattern, lambda m: \"def func\" if not m.group(1).startswith('__') else m.group(0), replaced_code)\n",
    "\n",
    "    return replaced_code"
   ]
  },
  {
   "cell_type": "code",
   "execution_count": 64,
   "metadata": {
    "scrolled": true
   },
   "outputs": [
    {
     "name": "stdout",
     "output_type": "stream",
     "text": [
      "class http(object):\n",
      "    log = log.getChild('http')\n",
      "\n",
      "    @staticmethod\n",
      "    def target(*args, **kwargs):\n",
      "        return HTTPTarget(*args, **kwargs)\n",
      "\n",
      "    @staticmethod\n",
      "    def request(method, address, session=None,\n",
      "                params=None, headers=None, cookies=None, data=None, json=None, files=None,\n",
      "                encrypted_cert=None, allow_redirects=True, timeout=30):\n",
      "        \"\"\"\n",
      "\n",
      "        :param method: str\n",
      "        :param address: str\n",
      "        :return: response\n",
      "        :rtype: HTTPResponse\n",
      "        \"\"\"\n",
      "        http.log.info(\"Request: %s %s\", method, address)\n",
      "        msg = \"Request: params=%r, headers=%r, cookies=%r, data=%r, json=%r, files=%r, allow_redirects=%r, timeout=%r\"\n",
      "        http.log.debug(msg, params, headers, cookies, data, json, files, allow_redirects, timeout)\n",
      "\n",
      "        if headers is None:\n",
      "            headers = {}\n",
      "        if \"User-Agent\" not in headers:\n",
      "            headers[\"User-Agent\"] = \"Apiritif\"\n",
      "\n",
      "        if session is None:\n",
      "            session = requests.Session()\n",
      "\n",
      "        if encrypted_cert is not None:\n",
      "            certificate_file_path, passphrase = encrypted_cert\n",
      "            adapter = SSLAdapter(certificate_file_path=certificate_file_path, passphrase=passphrase)\n",
      "            session.mount('https://', adapter)\n",
      "\n",
      "        request = requests.Request(method, address,\n",
      "                                   params=params, headers=headers, cookies=cookies, json=json, data=data, files=files)\n",
      "        prepared = session.prepare_request(request)\n",
      "        settings = session.merge_environment_settings(prepared.url, {}, False, False, None)\n",
      "        try:\n",
      "            response = session.send(prepared, allow_redirects=allow_redirects, timeout=timeout, **settings)\n",
      "        except requests.exceptions.Timeout as exc:\n",
      "            recorder.record_http_request_failure(method, address, prepared, exc, session)\n",
      "            raise TimeoutError(\"Connection to %s timed out\" % address)\n",
      "        except requests.exceptions.ConnectionError as exc:\n",
      "            recorder.record_http_request_failure(method, address, prepared, exc, session)\n",
      "            raise ConnectionError(\"Connection to %s failed\" % address)\n",
      "        except BaseException as exc:\n",
      "            recorder.record_http_request_failure(method, address, prepared, exc, session)\n",
      "            raise\n",
      "        http.log.info(\"Response: %s %s\", response.status_code, response.reason)\n",
      "        http.log.debug(\"Response headers: %r\", response.headers)\n",
      "        http.log.debug(\"Response cookies: %r\", {x: response.cookies.get(x) for x in response.cookies})\n",
      "        http.log.debug('Response content: \\n%s', response.content)\n",
      "        wrapped_response = HTTPResponse(response)\n",
      "        recorder.record_http_request(method, address, prepared, wrapped_response, session)\n",
      "        return wrapped_response\n",
      "\n",
      "    @staticmethod\n",
      "    def get(address, **kwargs):\n",
      "        return http.request(\"GET\", address, **kwargs)\n",
      "\n",
      "    @staticmethod\n",
      "    def post(address, **kwargs):\n",
      "        return http.request(\"POST\", address, **kwargs)\n",
      "\n",
      "    @staticmethod\n",
      "    def put(address, **kwargs):\n",
      "        return http.request(\"PUT\", address, **kwargs)\n",
      "\n",
      "    @staticmethod\n",
      "    def delete(address, **kwargs):\n",
      "        return http.request(\"DELETE\", address, **kwargs)\n",
      "\n",
      "    @staticmethod\n",
      "    def patch(address, **kwargs):\n",
      "        return http.request(\"PATCH\", address, **kwargs)\n",
      "\n",
      "    @staticmethod\n",
      "    def head(address, **kwargs):\n",
      "        return http.request(\"HEAD\", address, **kwargs)\n",
      "\n",
      "    @staticmethod\n",
      "    def options(address, **kwargs):\n",
      "        return http.request(\"OPTIONS\", address, **kwargs)\n",
      "\n",
      "    @staticmethod\n",
      "    def connect(address, **kwargs):\n",
      "        return http.request(\"CONNECT\", address, **kwargs)\n"
     ]
    }
   ],
   "source": [
    "print(raw_samples[1]['context'][0])"
   ]
  },
  {
   "cell_type": "code",
   "execution_count": 65,
   "metadata": {
    "scrolled": true
   },
   "outputs": [
    {
     "name": "stdout",
     "output_type": "stream",
     "text": [
      "class http(object):\n",
      "    log = log.getChild('http')\n",
      "\n",
      "    @staticmethod\n",
      "    def target(*args, **kwargs):\n",
      "        return HTTPTarget(*args, **kwargs)\n",
      "\n",
      "    @staticmethod\n",
      "    def request(method, address, session=None,\n",
      "                params=None, headers=None, cookies=None, data=None, json=None, files=None,\n",
      "                encrypted_cert=None, allow_redirects=True, timeout=30):\n",
      "        \n",
      "        http.log.info(\"Request: %s %s\", method, address)\n",
      "        msg = \"Request: params=%r, headers=%r, cookies=%r, data=%r, json=%r, files=%r, allow_redirects=%r, timeout=%r\"\n",
      "        http.log.debug(msg, params, headers, cookies, data, json, files, allow_redirects, timeout)\n",
      "\n",
      "        if headers is None:\n",
      "            headers = {}\n",
      "        if \"User-Agent\" not in headers:\n",
      "            headers[\"User-Agent\"] = \"Apiritif\"\n",
      "\n",
      "        if session is None:\n",
      "            session = requests.Session()\n",
      "\n",
      "        if encrypted_cert is not None:\n",
      "            certificate_file_path, passphrase = encrypted_cert\n",
      "            adapter = SSLAdapter(certificate_file_path=certificate_file_path, passphrase=passphrase)\n",
      "            session.mount('https://', adapter)\n",
      "\n",
      "        request = requests.Request(method, address,\n",
      "                                   params=params, headers=headers, cookies=cookies, json=json, data=data, files=files)\n",
      "        prepared = session.prepare_request(request)\n",
      "        settings = session.merge_environment_settings(prepared.url, {}, False, False, None)\n",
      "        try:\n",
      "            response = session.send(prepared, allow_redirects=allow_redirects, timeout=timeout, **settings)\n",
      "        except requests.exceptions.Timeout as exc:\n",
      "            recorder.record_http_request_failure(method, address, prepared, exc, session)\n",
      "            raise TimeoutError(\"Connection to %s timed out\" % address)\n",
      "        except requests.exceptions.ConnectionError as exc:\n",
      "            recorder.record_http_request_failure(method, address, prepared, exc, session)\n",
      "            raise ConnectionError(\"Connection to %s failed\" % address)\n",
      "        except BaseException as exc:\n",
      "            recorder.record_http_request_failure(method, address, prepared, exc, session)\n",
      "            raise\n",
      "        http.log.info(\"Response: %s %s\", response.status_code, response.reason)\n",
      "        http.log.debug(\"Response headers: %r\", response.headers)\n",
      "        http.log.debug(\"Response cookies: %r\", {x: response.cookies.get(x) for x in response.cookies})\n",
      "        http.log.debug('Response content: \\n%s', response.content)\n",
      "        wrapped_response = HTTPResponse(response)\n",
      "        recorder.record_http_request(method, address, prepared, wrapped_response, session)\n",
      "        return wrapped_response\n",
      "\n",
      "    @staticmethod\n",
      "    def get(address, **kwargs):\n",
      "        return http.request(\"GET\", address, **kwargs)\n",
      "\n",
      "    @staticmethod\n",
      "    def post(address, **kwargs):\n",
      "        return http.request(\"POST\", address, **kwargs)\n",
      "\n",
      "    @staticmethod\n",
      "    def put(address, **kwargs):\n",
      "        return http.request(\"PUT\", address, **kwargs)\n",
      "\n",
      "    @staticmethod\n",
      "    def delete(address, **kwargs):\n",
      "        return http.request(\"DELETE\", address, **kwargs)\n",
      "\n",
      "    @staticmethod\n",
      "    def patch(address, **kwargs):\n",
      "        return http.request(\"PATCH\", address, **kwargs)\n",
      "\n",
      "    @staticmethod\n",
      "    def head(address, **kwargs):\n",
      "        return http.request(\"HEAD\", address, **kwargs)\n",
      "\n",
      "    @staticmethod\n",
      "    def options(address, **kwargs):\n",
      "        return http.request(\"OPTIONS\", address, **kwargs)\n",
      "\n",
      "    @staticmethod\n",
      "    def connect(address, **kwargs):\n",
      "        return http.request(\"CONNECT\", address, **kwargs)\n"
     ]
    }
   ],
   "source": [
    "print(remove_docstrings(raw_samples[1]['context'][0]))"
   ]
  },
  {
   "cell_type": "code",
   "execution_count": 67,
   "metadata": {
    "scrolled": true
   },
   "outputs": [
    {
     "name": "stdout",
     "output_type": "stream",
     "text": [
      "class cls(object):\n",
      "    log = log.getChild('http')\n",
      "\n",
      "    @staticmethod\n",
      "    def func(*args, **kwargs):\n",
      "        return HTTPTarget(*args, **kwargs)\n",
      "\n",
      "    @staticmethod\n",
      "    def func(method, address, session=None,\n",
      "                params=None, headers=None, cookies=None, data=None, json=None, files=None,\n",
      "                encrypted_cert=None, allow_redirects=True, timeout=30):\n",
      "        \"\"\"\n",
      "\n",
      "        :param method: str\n",
      "        :param address: str\n",
      "        :return: response\n",
      "        :rtype: HTTPResponse\n",
      "        \"\"\"\n",
      "        http.log.info(\"Request: %s %s\", method, address)\n",
      "        msg = \"Request: params=%r, headers=%r, cookies=%r, data=%r, json=%r, files=%r, allow_redirects=%r, timeout=%r\"\n",
      "        http.log.debug(msg, params, headers, cookies, data, json, files, allow_redirects, timeout)\n",
      "\n",
      "        if headers is None:\n",
      "            headers = {}\n",
      "        if \"User-Agent\" not in headers:\n",
      "            headers[\"User-Agent\"] = \"Apiritif\"\n",
      "\n",
      "        if session is None:\n",
      "            session = requests.Session()\n",
      "\n",
      "        if encrypted_cert is not None:\n",
      "            certificate_file_path, passphrase = encrypted_cert\n",
      "            adapter = SSLAdapter(certificate_file_path=certificate_file_path, passphrase=passphrase)\n",
      "            session.mount('https://', adapter)\n",
      "\n",
      "        request = requests.Request(method, address,\n",
      "                                   params=params, headers=headers, cookies=cookies, json=json, data=data, files=files)\n",
      "        prepared = session.prepare_request(request)\n",
      "        settings = session.merge_environment_settings(prepared.url, {}, False, False, None)\n",
      "        try:\n",
      "            response = session.send(prepared, allow_redirects=allow_redirects, timeout=timeout, **settings)\n",
      "        except requests.exceptions.Timeout as exc:\n",
      "            recorder.record_http_request_failure(method, address, prepared, exc, session)\n",
      "            raise TimeoutError(\"Connection to %s timed out\" % address)\n",
      "        except requests.exceptions.ConnectionError as exc:\n",
      "            recorder.record_http_request_failure(method, address, prepared, exc, session)\n",
      "            raise ConnectionError(\"Connection to %s failed\" % address)\n",
      "        except BaseException as exc:\n",
      "            recorder.record_http_request_failure(method, address, prepared, exc, session)\n",
      "            raise\n",
      "        http.log.info(\"Response: %s %s\", response.status_code, response.reason)\n",
      "        http.log.debug(\"Response headers: %r\", response.headers)\n",
      "        http.log.debug(\"Response cookies: %r\", {x: response.cookies.get(x) for x in response.cookies})\n",
      "        http.log.debug('Response content: \\n%s', response.content)\n",
      "        wrapped_response = HTTPResponse(response)\n",
      "        recorder.record_http_request(method, address, prepared, wrapped_response, session)\n",
      "        return wrapped_response\n",
      "\n",
      "    @staticmethod\n",
      "    def func(address, **kwargs):\n",
      "        return http.request(\"GET\", address, **kwargs)\n",
      "\n",
      "    @staticmethod\n",
      "    def func(address, **kwargs):\n",
      "        return http.request(\"POST\", address, **kwargs)\n",
      "\n",
      "    @staticmethod\n",
      "    def func(address, **kwargs):\n",
      "        return http.request(\"PUT\", address, **kwargs)\n",
      "\n",
      "    @staticmethod\n",
      "    def func(address, **kwargs):\n",
      "        return http.request(\"DELETE\", address, **kwargs)\n",
      "\n",
      "    @staticmethod\n",
      "    def func(address, **kwargs):\n",
      "        return http.request(\"PATCH\", address, **kwargs)\n",
      "\n",
      "    @staticmethod\n",
      "    def func(address, **kwargs):\n",
      "        return http.request(\"HEAD\", address, **kwargs)\n",
      "\n",
      "    @staticmethod\n",
      "    def func(address, **kwargs):\n",
      "        return http.request(\"OPTIONS\", address, **kwargs)\n",
      "\n",
      "    @staticmethod\n",
      "    def func(address, **kwargs):\n",
      "        return http.request(\"CONNECT\", address, **kwargs)\n"
     ]
    }
   ],
   "source": [
    "print(replace_class_and_function_names(raw_samples[1]['context'][0]))"
   ]
  },
  {
   "cell_type": "code",
   "execution_count": 68,
   "metadata": {},
   "outputs": [],
   "source": [
    "# Wihout docstrings"
   ]
  },
  {
   "cell_type": "code",
   "execution_count": 71,
   "metadata": {},
   "outputs": [
    {
     "name": "stderr",
     "output_type": "stream",
     "text": [
      "100%|████████████████████████████████████████████████████████████████████████████████████████████████████████████████████████████████████████████████████████████████████████████████████████████████████████████████████████████████████████████████████████| 1000/1000 [02:17<00:00,  7.25it/s]\n"
     ]
    }
   ],
   "source": [
    "symm_preds, asymm_preds, gts = [], [], []\n",
    "\n",
    "for sample in tqdm(raw_samples):\n",
    "    with torch.inference_mode():\n",
    "        nl_embedding = get_embedding(sample['next_line'], tokenizer, model, device)\n",
    "        \n",
    "        code_embedding = get_embedding(remove_docstrings(sample['code']), tokenizer, model, device)\n",
    "        \n",
    "        context_embedding = torch.stack([get_embedding(remove_docstrings(c), tokenizer, model, device) for c in sample['context']])\n",
    "        \n",
    "        symm_dist = nl_embedding @ context_embedding.T\n",
    "        asymm_dist = code_embedding @ context_embedding.T\n",
    "        \n",
    "        symm_preds.append(symm_dist.argsort(descending=True).numpy())\n",
    "        asymm_preds.append(asymm_dist.argsort(descending=True).numpy())\n",
    "        \n",
    "        gts.append(sample['golden_snippet_index'])"
   ]
  },
  {
   "cell_type": "code",
   "execution_count": 72,
   "metadata": {},
   "outputs": [
    {
     "name": "stdout",
     "output_type": "stream",
     "text": [
      "without docstring\n",
      "symm\n",
      "accuracy@1: 0.744\n",
      "accuracy@3: 0.91\n",
      "accuracy@5: 0.971\n",
      "assym\n",
      "accuracy@1: 0.132\n",
      "accuracy@3: 0.431\n",
      "accuracy@5: 0.793\n"
     ]
    }
   ],
   "source": [
    "print('without docstring')\n",
    "print('symm')\n",
    "print_metrics(symm_preds, gts)\n",
    "print('assym')\n",
    "print_metrics(asymm_preds, gts)"
   ]
  },
  {
   "cell_type": "code",
   "execution_count": 73,
   "metadata": {},
   "outputs": [
    {
     "name": "stderr",
     "output_type": "stream",
     "text": [
      "100%|████████████████████████████████████████████████████████████████████████████████████████████████████████████████████████████████████████████████████████████████████████████████████████████████████████████████████████████████████████████████████████| 1000/1000 [02:27<00:00,  6.77it/s]\n"
     ]
    }
   ],
   "source": [
    "symm_preds, asymm_preds, gts = [], [], []\n",
    "\n",
    "for sample in tqdm(raw_samples):\n",
    "    with torch.inference_mode():\n",
    "        nl_embedding = get_embedding(sample['next_line'], tokenizer, model, device)\n",
    "        \n",
    "        code_embedding = get_embedding(replace_class_and_function_names(sample['code']), tokenizer, model, device)\n",
    "        \n",
    "        context_embedding = torch.stack([get_embedding(replace_class_and_function_names(c), tokenizer, model, device) for c in sample['context']])\n",
    "        \n",
    "        symm_dist = nl_embedding @ context_embedding.T\n",
    "        asymm_dist = code_embedding @ context_embedding.T\n",
    "        \n",
    "        symm_preds.append(symm_dist.argsort(descending=True).numpy())\n",
    "        asymm_preds.append(asymm_dist.argsort(descending=True).numpy())\n",
    "        \n",
    "        gts.append(sample['golden_snippet_index'])"
   ]
  },
  {
   "cell_type": "code",
   "execution_count": 74,
   "metadata": {},
   "outputs": [
    {
     "name": "stdout",
     "output_type": "stream",
     "text": [
      "without names\n",
      "symm\n",
      "accuracy@1: 0.598\n",
      "accuracy@3: 0.839\n",
      "accuracy@5: 0.951\n",
      "assym\n",
      "accuracy@1: 0.136\n",
      "accuracy@3: 0.43\n",
      "accuracy@5: 0.781\n"
     ]
    }
   ],
   "source": [
    "print('without names')\n",
    "print('symm')\n",
    "print_metrics(symm_preds, gts)\n",
    "print('assym')\n",
    "print_metrics(asymm_preds, gts)"
   ]
  },
  {
   "cell_type": "code",
   "execution_count": 34,
   "metadata": {},
   "outputs": [],
   "source": [
    "# Without docstring, names"
   ]
  },
  {
   "cell_type": "code",
   "execution_count": 35,
   "metadata": {},
   "outputs": [
    {
     "name": "stderr",
     "output_type": "stream",
     "text": [
      "100%|████████████████████████████████████████████████████████████████████████████████████████████████████████████████████████████████████████████████████████████████████████████████████████████████████████████████████████████████████████████████████████| 5000/5000 [10:05<00:00,  8.26it/s]\n"
     ]
    }
   ],
   "source": [
    "symm_preds, asymm_preds, gts = [], [], []\n",
    "\n",
    "for sample in tqdm(raw_samples):\n",
    "    with torch.inference_mode():\n",
    "        nl_embedding = get_embedding(sample['next_line'], tokenizer, model, device)\n",
    "        \n",
    "        code_embedding = get_embedding(replace_class_and_function_names(sample['code']), tokenizer, model, device)\n",
    "        \n",
    "        context_embedding = torch.stack([get_embedding(replace_class_and_function_names(c), tokenizer, model, device) for c in sample['context']])\n",
    "        \n",
    "        symm_dist = nl_embedding @ context_embedding.T\n",
    "        asymm_dist = code_embedding @ context_embedding.T\n",
    "        \n",
    "        symm_preds.append(symm_dist.argsort(descending=True).numpy())\n",
    "        asymm_preds.append(asymm_dist.argsort(descending=True).numpy())\n",
    "        \n",
    "        gts.append(sample['golden_snippet_index'])"
   ]
  },
  {
   "cell_type": "code",
   "execution_count": 36,
   "metadata": {},
   "outputs": [
    {
     "name": "stdout",
     "output_type": "stream",
     "text": [
      "accuracy@1: 0.5416\n",
      "accuracy@3: 0.828\n",
      "accuracy@5: 0.9478\n"
     ]
    }
   ],
   "source": [
    "print('without docstring, names')\n",
    "print('symm')\n",
    "print_metrics(symm_preds, gts)\n",
    "print('assym')\n",
    "print_metrics(asymm_preds, gts)"
   ]
  },
  {
   "cell_type": "code",
   "execution_count": null,
   "metadata": {},
   "outputs": [],
   "source": []
  }
 ],
 "metadata": {
  "interpreter": {
   "hash": "31f2aee4e71d21fbe5cf8b01ff0e069b9275f58929596ceb00d14d90e3e16cd6"
  },
  "kernelspec": {
   "display_name": "Python 3 (ipykernel)",
   "language": "python",
   "name": "python3"
  },
  "language_info": {
   "codemirror_mode": {
    "name": "ipython",
    "version": 3
   },
   "file_extension": ".py",
   "mimetype": "text/x-python",
   "name": "python",
   "nbconvert_exporter": "python",
   "pygments_lexer": "ipython3",
   "version": "3.10.12"
  }
 },
 "nbformat": 4,
 "nbformat_minor": 4
}
