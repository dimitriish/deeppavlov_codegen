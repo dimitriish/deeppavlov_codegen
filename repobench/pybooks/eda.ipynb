{
 "cells": [
  {
   "cell_type": "code",
   "execution_count": 1,
   "source": [
    "import sys\n",
    "sys.path.append('../')"
   ],
   "outputs": [],
   "metadata": {}
  },
  {
   "cell_type": "code",
   "execution_count": 2,
   "source": [
    "import pandas as pd\n",
    "import numpy as np"
   ],
   "outputs": [],
   "metadata": {}
  },
  {
   "cell_type": "code",
   "execution_count": 4,
   "source": [
    "from utils import load_data"
   ],
   "outputs": [],
   "metadata": {}
  },
  {
   "cell_type": "code",
   "execution_count": 5,
   "source": [
    "# settings :`cross_file_first`, `cross_file_random`, or `in_file`\n",
    "settings = 'cross_file_first'\n",
    "data = load_data('train', 'r', 'python', settings)"
   ],
   "outputs": [
    {
     "output_type": "stream",
     "name": "stderr",
     "text": [
      "Loading data: 100%|██████████| 1/1 [00:04<00:00,  4.76s/it]\n"
     ]
    }
   ],
   "metadata": {}
  },
  {
   "cell_type": "code",
   "execution_count": 6,
   "source": [
    "len(data)"
   ],
   "outputs": [
    {
     "output_type": "execute_result",
     "data": {
      "text/plain": [
       "2"
      ]
     },
     "metadata": {},
     "execution_count": 6
    }
   ],
   "metadata": {}
  },
  {
   "cell_type": "code",
   "execution_count": 7,
   "source": [
    "data.keys()"
   ],
   "outputs": [
    {
     "output_type": "execute_result",
     "data": {
      "text/plain": [
       "dict_keys(['easy', 'hard'])"
      ]
     },
     "metadata": {},
     "execution_count": 7
    }
   ],
   "metadata": {}
  },
  {
   "cell_type": "code",
   "execution_count": 8,
   "source": [
    "sample = data['easy'][0]"
   ],
   "outputs": [],
   "metadata": {}
  },
  {
   "cell_type": "code",
   "execution_count": 9,
   "source": [
    "sample.keys()"
   ],
   "outputs": [
    {
     "output_type": "execute_result",
     "data": {
      "text/plain": [
       "dict_keys(['repo_name', 'file_path', 'context', 'import_statement', 'code', 'next_line', 'golden_snippet_index'])"
      ]
     },
     "metadata": {},
     "execution_count": 9
    }
   ],
   "metadata": {}
  },
  {
   "cell_type": "code",
   "execution_count": 13,
   "source": [
    "easy = pd.DataFrame(data['easy'])\n",
    "easy['lvl'] = 'easy'\n",
    "\n",
    "hard = pd.DataFrame(data['hard'])\n",
    "hard['lvl'] = 'hard'\n",
    "\n",
    "df = pd.concat([easy, hard])"
   ],
   "outputs": [],
   "metadata": {}
  },
  {
   "cell_type": "code",
   "execution_count": 14,
   "source": [
    "df['context_len'] = df['context'].apply(lambda x: len(x))"
   ],
   "outputs": [],
   "metadata": {}
  },
  {
   "cell_type": "code",
   "execution_count": 16,
   "source": [
    "df.shape"
   ],
   "outputs": [
    {
     "output_type": "execute_result",
     "data": {
      "text/plain": [
       "(175199, 9)"
      ]
     },
     "metadata": {},
     "execution_count": 16
    }
   ],
   "metadata": {}
  },
  {
   "cell_type": "code",
   "execution_count": 18,
   "source": [
    "df[df.lvl == 'easy'][['context_len', 'golden_snippet_index']].describe()"
   ],
   "outputs": [
    {
     "output_type": "execute_result",
     "data": {
      "text/plain": [
       "        context_len  golden_snippet_index\n",
       "count  98038.000000          98038.000000\n",
       "mean       6.583733              2.817561\n",
       "std        1.377968              2.061131\n",
       "min        5.000000              0.000000\n",
       "25%        5.000000              1.000000\n",
       "50%        6.000000              3.000000\n",
       "75%        8.000000              4.000000\n",
       "max        9.000000             34.000000"
      ],
      "text/html": [
       "<div>\n",
       "<style scoped>\n",
       "    .dataframe tbody tr th:only-of-type {\n",
       "        vertical-align: middle;\n",
       "    }\n",
       "\n",
       "    .dataframe tbody tr th {\n",
       "        vertical-align: top;\n",
       "    }\n",
       "\n",
       "    .dataframe thead th {\n",
       "        text-align: right;\n",
       "    }\n",
       "</style>\n",
       "<table border=\"1\" class=\"dataframe\">\n",
       "  <thead>\n",
       "    <tr style=\"text-align: right;\">\n",
       "      <th></th>\n",
       "      <th>context_len</th>\n",
       "      <th>golden_snippet_index</th>\n",
       "    </tr>\n",
       "  </thead>\n",
       "  <tbody>\n",
       "    <tr>\n",
       "      <th>count</th>\n",
       "      <td>98038.000000</td>\n",
       "      <td>98038.000000</td>\n",
       "    </tr>\n",
       "    <tr>\n",
       "      <th>mean</th>\n",
       "      <td>6.583733</td>\n",
       "      <td>2.817561</td>\n",
       "    </tr>\n",
       "    <tr>\n",
       "      <th>std</th>\n",
       "      <td>1.377968</td>\n",
       "      <td>2.061131</td>\n",
       "    </tr>\n",
       "    <tr>\n",
       "      <th>min</th>\n",
       "      <td>5.000000</td>\n",
       "      <td>0.000000</td>\n",
       "    </tr>\n",
       "    <tr>\n",
       "      <th>25%</th>\n",
       "      <td>5.000000</td>\n",
       "      <td>1.000000</td>\n",
       "    </tr>\n",
       "    <tr>\n",
       "      <th>50%</th>\n",
       "      <td>6.000000</td>\n",
       "      <td>3.000000</td>\n",
       "    </tr>\n",
       "    <tr>\n",
       "      <th>75%</th>\n",
       "      <td>8.000000</td>\n",
       "      <td>4.000000</td>\n",
       "    </tr>\n",
       "    <tr>\n",
       "      <th>max</th>\n",
       "      <td>9.000000</td>\n",
       "      <td>34.000000</td>\n",
       "    </tr>\n",
       "  </tbody>\n",
       "</table>\n",
       "</div>"
      ]
     },
     "metadata": {},
     "execution_count": 18
    }
   ],
   "metadata": {}
  },
  {
   "cell_type": "code",
   "execution_count": 19,
   "source": [
    "df[df.lvl == 'hard'][['context_len', 'golden_snippet_index']].describe()"
   ],
   "outputs": [
    {
     "output_type": "execute_result",
     "data": {
      "text/plain": [
       "        context_len  golden_snippet_index\n",
       "count  77161.000000          77161.000000\n",
       "mean      18.439484              8.729889\n",
       "std       11.761403              8.632158\n",
       "min       10.000000              0.000000\n",
       "25%       11.000000              3.000000\n",
       "50%       15.000000              7.000000\n",
       "75%       21.000000             11.000000\n",
       "max      131.000000            130.000000"
      ],
      "text/html": [
       "<div>\n",
       "<style scoped>\n",
       "    .dataframe tbody tr th:only-of-type {\n",
       "        vertical-align: middle;\n",
       "    }\n",
       "\n",
       "    .dataframe tbody tr th {\n",
       "        vertical-align: top;\n",
       "    }\n",
       "\n",
       "    .dataframe thead th {\n",
       "        text-align: right;\n",
       "    }\n",
       "</style>\n",
       "<table border=\"1\" class=\"dataframe\">\n",
       "  <thead>\n",
       "    <tr style=\"text-align: right;\">\n",
       "      <th></th>\n",
       "      <th>context_len</th>\n",
       "      <th>golden_snippet_index</th>\n",
       "    </tr>\n",
       "  </thead>\n",
       "  <tbody>\n",
       "    <tr>\n",
       "      <th>count</th>\n",
       "      <td>77161.000000</td>\n",
       "      <td>77161.000000</td>\n",
       "    </tr>\n",
       "    <tr>\n",
       "      <th>mean</th>\n",
       "      <td>18.439484</td>\n",
       "      <td>8.729889</td>\n",
       "    </tr>\n",
       "    <tr>\n",
       "      <th>std</th>\n",
       "      <td>11.761403</td>\n",
       "      <td>8.632158</td>\n",
       "    </tr>\n",
       "    <tr>\n",
       "      <th>min</th>\n",
       "      <td>10.000000</td>\n",
       "      <td>0.000000</td>\n",
       "    </tr>\n",
       "    <tr>\n",
       "      <th>25%</th>\n",
       "      <td>11.000000</td>\n",
       "      <td>3.000000</td>\n",
       "    </tr>\n",
       "    <tr>\n",
       "      <th>50%</th>\n",
       "      <td>15.000000</td>\n",
       "      <td>7.000000</td>\n",
       "    </tr>\n",
       "    <tr>\n",
       "      <th>75%</th>\n",
       "      <td>21.000000</td>\n",
       "      <td>11.000000</td>\n",
       "    </tr>\n",
       "    <tr>\n",
       "      <th>max</th>\n",
       "      <td>131.000000</td>\n",
       "      <td>130.000000</td>\n",
       "    </tr>\n",
       "  </tbody>\n",
       "</table>\n",
       "</div>"
      ]
     },
     "metadata": {},
     "execution_count": 19
    }
   ],
   "metadata": {}
  },
  {
   "cell_type": "code",
   "execution_count": 22,
   "source": [
    "print(sample['code'])"
   ],
   "outputs": [
    {
     "output_type": "stream",
     "name": "stdout",
     "text": [
      "# -*- coding: utf-8 -*-\n",
      "\"\"\"Defines fixtures available to all tests.\"\"\"\n",
      "\n",
      "\n",
      "\n",
      "\n",
      "\n",
      "@pytest.yield_fixture(scope='function')\n",
      "def app():\n",
      "    \"\"\"An application for the tests.\"\"\"\n",
      "    _app = create_app(config=TestConfig)\n",
      "    ctx = _app.test_request_context()\n",
      "    ctx.push()\n",
      "\n",
      "    try:\n",
      "        yield _app\n",
      "    finally:\n",
      "        ctx.pop()\n",
      "\n",
      "\n",
      "@pytest.yield_fixture(scope='function')\n",
      "def api():\n",
      "    \"\"\"An api instance for the tests, no manager\"\"\"\n",
      "    # the mere presence of the env var should prevent the manage\n",
      "    # blueprint from being registered\n",
      "    os.environ['DOORMAN_NO_MANAGER'] = '1'\n",
      "\n",
      "    _app = create_app(config=TestConfig)\n",
      "    ctx = _app.test_request_context()\n",
      "    ctx.push()\n",
      "\n",
      "    try:\n",
      "        yield _app\n",
      "    finally:\n",
      "        ctx.pop()\n",
      "\n",
      "\n",
      "@pytest.fixture(scope='function')\n",
      "def testapp(app):\n",
      "    \"\"\"A Webtest app.\"\"\"\n",
      "    return TestApp(app)\n",
      "\n",
      "\n",
      "@pytest.fixture(scope='function')\n",
      "def testapi(api):\n",
      "    return TestApp(api)\n",
      "\n",
      "\n",
      "@pytest.yield_fixture(scope='function')\n",
      "def db(app):\n",
      "    \"\"\"A database for the tests.\"\"\"\n",
      "\n"
     ]
    }
   ],
   "metadata": {}
  },
  {
   "cell_type": "code",
   "execution_count": 23,
   "source": [
    "print(sample['next_line'])"
   ],
   "outputs": [
    {
     "output_type": "stream",
     "name": "stdout",
     "text": [
      "    _db.app = app\n"
     ]
    }
   ],
   "metadata": {}
  },
  {
   "cell_type": "code",
   "execution_count": 24,
   "source": [
    "print(sample['golden_snippet_index'])"
   ],
   "outputs": [
    {
     "output_type": "stream",
     "name": "stdout",
     "text": [
      "0\n"
     ]
    }
   ],
   "metadata": {}
  },
  {
   "cell_type": "code",
   "execution_count": 25,
   "source": [
    "print(sample['context'][0])"
   ],
   "outputs": [
    {
     "output_type": "stream",
     "name": "stdout",
     "text": [
      "def create_app(config=ProdConfig):\n",
      "    app = Flask(__name__)\n",
      "    app.config.from_object(config)\n",
      "    app.config.from_envvar('DOORMAN_SETTINGS', silent=True)\n",
      "\n",
      "    register_blueprints(app)\n",
      "    register_errorhandlers(app)\n",
      "    register_loggers(app)\n",
      "    register_extensions(app)\n",
      "    register_auth_method(app)\n",
      "    register_filters(app)\n",
      "\n",
      "    return app\n"
     ]
    }
   ],
   "metadata": {}
  },
  {
   "cell_type": "code",
   "execution_count": 27,
   "source": [
    "print(sample['context'][3])"
   ],
   "outputs": [
    {
     "output_type": "stream",
     "name": "stdout",
     "text": [
      "class TestConfig(Config):\n",
      "    \"\"\"\n",
      "    This class specifies a configuration that is used for our tests.\n",
      "    \"\"\"\n",
      "    TESTING = True\n",
      "    DEBUG = True\n",
      "\n",
      "    SQLALCHEMY_DATABASE_URI = 'postgresql://localhost:5432/doorman_test'\n",
      "\n",
      "    WTF_CSRF_ENABLED = False\n",
      "\n",
      "    DOORMAN_ENROLL_SECRET = [\n",
      "        'secret',\n",
      "    ]\n",
      "    DOORMAN_EXPECTS_UNIQUE_HOST_ID = False\n",
      "\n",
      "    DOORMAN_AUTH_METHOD = None\n",
      "\n",
      "    DOORMAN_COLUMN_RENDER = {\n",
      "        'computer_name': '<a href=\"https://{{ value | urlencode }}/\">{{ value }}</a>'\n",
      "    }\n"
     ]
    }
   ],
   "metadata": {}
  },
  {
   "cell_type": "code",
   "execution_count": null,
   "source": [],
   "outputs": [],
   "metadata": {}
  }
 ],
 "metadata": {
  "orig_nbformat": 4,
  "language_info": {
   "name": "python",
   "version": "3.10.12",
   "mimetype": "text/x-python",
   "codemirror_mode": {
    "name": "ipython",
    "version": 3
   },
   "pygments_lexer": "ipython3",
   "nbconvert_exporter": "python",
   "file_extension": ".py"
  },
  "kernelspec": {
   "name": "python3",
   "display_name": "Python 3.10.12 64-bit"
  },
  "interpreter": {
   "hash": "31f2aee4e71d21fbe5cf8b01ff0e069b9275f58929596ceb00d14d90e3e16cd6"
  }
 },
 "nbformat": 4,
 "nbformat_minor": 2
}